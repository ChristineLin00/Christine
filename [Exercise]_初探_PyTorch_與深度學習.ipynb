{
  "nbformat": 4,
  "nbformat_minor": 0,
  "metadata": {
    "colab": {
      "provenance": [],
      "collapsed_sections": [
        "pH-4vG5qQQAt",
        "1BP8KlHlYnC8",
        "CvYz59tmdt4S",
        "ZCJos8QWl9EH",
        "waa-aK37ghYj",
        "HSsxgw_xmQu8",
        "Q0U9ayyMm_Xp"
      ],
      "include_colab_link": true
    },
    "kernelspec": {
      "name": "python3",
      "display_name": "Python 3"
    },
    "accelerator": "GPU"
  },
  "cells": [
    {
      "cell_type": "markdown",
      "metadata": {
        "id": "view-in-github",
        "colab_type": "text"
      },
      "source": [
        "<a href=\"https://colab.research.google.com/github/ChristineLin00/Christine/blob/master/%5BExercise%5D_%E5%88%9D%E6%8E%A2_PyTorch_%E8%88%87%E6%B7%B1%E5%BA%A6%E5%AD%B8%E7%BF%92.ipynb\" target=\"_parent\"><img src=\"https://colab.research.google.com/assets/colab-badge.svg\" alt=\"Open In Colab\"/></a>"
      ]
    },
    {
      "cell_type": "markdown",
      "metadata": {
        "id": "Na0_QjevL_F5"
      },
      "source": [
        "# 初探 PyTorch 與深度學習"
      ]
    },
    {
      "cell_type": "markdown",
      "source": [
        "請記得改變 colab 設定：`編輯` -> `筆記本設定` -> 將 `硬體加速器` 改為 `GPU`\n",
        "\n",
        "修改成功後執行以下指令，可以看到 GPU、驅動程式（Driver）與 CUDA 等資訊"
      ],
      "metadata": {
        "id": "rP6qU2VuPtd4"
      }
    },
    {
      "cell_type": "code",
      "source": [
        "!nvidia-smi"
      ],
      "metadata": {
        "id": "wXm3-Z5BCF6v"
      },
      "execution_count": null,
      "outputs": []
    },
    {
      "cell_type": "markdown",
      "source": [
        "## 展示題：手寫數字辨識"
      ],
      "metadata": {
        "id": "pH-4vG5qQQAt"
      }
    },
    {
      "cell_type": "markdown",
      "metadata": {
        "id": "rxVfmTuzLmyp"
      },
      "source": [
        "MNIST 為深度學習最常用來入門的資料集，可以說是深度學習的 Hello World。這個資料集主要是由 Yann LeCun 在 1998 所蒐集的（Yann LeCun 為深度學習最重要的貢獻者，也是 Convolutional Neural Networks 的發明人），蒐集數字 0 ~ 9 的手寫數字圖片（分別對應的 label 為 `0` ~ `9`），每張圖片大小為 28 x 28。\n",
        "\n",
        "這次練習，我們將用 PyTorch 來建構一個最簡單的 MLP，並且用 MNIST 做訓練，來預測手寫圖片為何種數字。"
      ]
    },
    {
      "cell_type": "code",
      "metadata": {
        "id": "c6tUTprCWdhH"
      },
      "source": [
        "!pip install numpy matplotlib scikit-learn torch torchvision"
      ],
      "execution_count": null,
      "outputs": []
    },
    {
      "cell_type": "markdown",
      "metadata": {
        "id": "1BP8KlHlYnC8"
      },
      "source": [
        "### Data Preprocessing"
      ]
    },
    {
      "cell_type": "markdown",
      "metadata": {
        "id": "JUGP8UDXeKFw"
      },
      "source": [
        "我們要準備 MNIST 的資料，準備的方式通常有兩種：\n",
        "1. 自己下載 MNIST 資料到 colab 的電腦中，再做讀取\n",
        "2. 直接使用 [torchvision.datasets](https://pytorch.org/vision/stable/datasets.html) 下載 MNIST 資料，再做讀取\n",
        "\n",
        "這次練習使用方法 2：\n",
        "- 透過 `torchvision.datasets` 下載 MNIST 後，並且用 `torch.transforms.ToTensor()` 將資料轉成 [Tensor](https://pytorch.org/tutorials/beginner/blitz/tensor_tutorial.html#sphx-glr-beginner-blitz-tensor-tutorial-py) 型別\n",
        "- 創建 [DataLoader](https://pytorch.org/tutorials/beginner/basics/data_tutorial.html) 的物件，這個物件負責實際的讀取資料，而且能指定 batch size 的大小（也就是一次要讀幾張圖片）"
      ]
    },
    {
      "cell_type": "code",
      "metadata": {
        "id": "bjqGXh8CVFuW"
      },
      "source": [
        "import torchvision.transforms as transforms\n",
        "from torchvision import datasets\n",
        "\n",
        "# Batch size: how many samples per batch to load.\n",
        "batch_size = 16\n",
        "\n",
        "# Convert data to torch Tensor.\n",
        "transform = transforms.ToTensor()\n",
        "\n",
        "# Download the training and testing data for MNIST.\n",
        "train_data = datasets.MNIST(\n",
        "    root=\"mnist_data\",\n",
        "    train=True,\n",
        "    download=True,\n",
        "    transform=transform,\n",
        ")\n",
        "test_data = datasets.MNIST(\n",
        "    root=\"mnist_data\",\n",
        "    train=False,\n",
        "    download=True,\n",
        "    transform=transform,\n",
        ")\n",
        "\n",
        "print(\"Size of training set:\", len(train_data))\n",
        "print(\"Size of testing set:\", len(test_data))"
      ],
      "execution_count": null,
      "outputs": []
    },
    {
      "cell_type": "code",
      "source": [
        "import torch\n",
        "\n",
        "# Create loaders for training and testing data.\n",
        "train_loader = torch.utils.data.DataLoader(\n",
        "    train_data,\n",
        "    shuffle=True,\n",
        "    batch_size=batch_size,\n",
        ")\n",
        "test_loader = torch.utils.data.DataLoader(\n",
        "    test_data,\n",
        "    shuffle=False,\n",
        "    batch_size=batch_size,\n",
        ")"
      ],
      "metadata": {
        "id": "J3hU8QnQAbJT"
      },
      "execution_count": null,
      "outputs": []
    },
    {
      "cell_type": "markdown",
      "metadata": {
        "id": "eufcPqfAfQ7k"
      },
      "source": [
        "創建好 `DataLoader` 物件後，我們可以從中抓一把資料，一把資料的資料數量就是 batch size 的大小，每筆包含圖片與相對應的 label，圖片與 label 的型別都是 `Tensor`。由於我們在創建 training data  的 `DataLoader` 物件時有指定 `shuffle=True`，所以每次抓的資料都會不一樣。\n",
        "\n",
        "可以看到圖片的 shape 為 `[16, 1, 28, 28]`，這種格式稱之為 `NCHW`，分別代表的意義如下：\n",
        "- `N`：batch size 大小\n",
        "- `C`：圖片的 channel 數量，灰階圖為 1，彩色圖通常為 3\n",
        "- `H`：圖片的高度（height）\n",
        "- `W`：圖片的寬度（width）\n"
      ]
    },
    {
      "cell_type": "code",
      "metadata": {
        "id": "kzGX6aXqeOda"
      },
      "source": [
        "# Obtain one batch of training images.\n",
        "images, labels = next(iter(train_loader))\n",
        "\n",
        "print(\"Images type: {}\".format(type(images)))\n",
        "print(\"Labels type: {}\".format(type(labels)))\n",
        "print(\"Images shape: {}\".format(images.shape))\n",
        "print(\"Labels shape: {}\".format(labels.shape))"
      ],
      "execution_count": null,
      "outputs": []
    },
    {
      "cell_type": "markdown",
      "source": [
        "創建 Dataset 時指定的 [torchvision.transforms.ToTensor()](https://pytorch.org/vision/main/generated/torchvision.transforms.ToTensor.html)，除了會將圖片資料轉成 Tensor 型別之外，也會將每個像素的值從 0 到 255 normalize 到 0 跟 1，dtype 為 float"
      ],
      "metadata": {
        "id": "oS-5ce7MUN0q"
      }
    },
    {
      "cell_type": "code",
      "source": [
        "print(\"Images data: {}\".format(images[0, 0, :15, :15]))\n",
        "print(\"Images dtype: {}\".format(images.dtype))"
      ],
      "metadata": {
        "id": "hEKNUa2uT_6b"
      },
      "execution_count": null,
      "outputs": []
    },
    {
      "cell_type": "markdown",
      "source": [
        "label 的資料則會是整數，範圍從 0 到 9"
      ],
      "metadata": {
        "id": "FM6Bl7YBWDPV"
      }
    },
    {
      "cell_type": "code",
      "source": [
        "print(\"Labels data: {}\".format(labels))\n",
        "print(\"Labels dtype: {}\".format(labels.dtype))"
      ],
      "metadata": {
        "id": "aTMVBipUVxra"
      },
      "execution_count": null,
      "outputs": []
    },
    {
      "cell_type": "markdown",
      "source": [
        "再來查看資料所在的裝置位置，一開始都會是 `cpu`"
      ],
      "metadata": {
        "id": "Qi0a4y0WWwJG"
      }
    },
    {
      "cell_type": "code",
      "source": [
        "print(\"Images device: {}\".format(images.device))\n",
        "print(\"Labels device: {}\".format(labels.device))"
      ],
      "metadata": {
        "id": "5wC5LRIrWOby"
      },
      "execution_count": null,
      "outputs": []
    },
    {
      "cell_type": "markdown",
      "source": [
        "另外，`Tensor` 型別可以與 `numpy.ndarray` 互相轉換型別。"
      ],
      "metadata": {
        "id": "vo5gKZWMTtSp"
      }
    },
    {
      "cell_type": "code",
      "source": [
        "# We can also transform from Tensor to numpy.ndarray\n",
        "images_np = images.numpy()\n",
        "print(\"Type: {}, shape: {}, dtype: {}\".format(type(images_np), images_np.shape, images_np.dtype))"
      ],
      "metadata": {
        "id": "qEVZEUQCTuRv"
      },
      "execution_count": null,
      "outputs": []
    },
    {
      "cell_type": "markdown",
      "metadata": {
        "id": "CvYz59tmdt4S"
      },
      "source": [
        "### Data Visualization"
      ]
    },
    {
      "cell_type": "markdown",
      "metadata": {
        "id": "cRs9sgu4lxA1"
      },
      "source": [
        "同樣的，我們可以將從 `DataLoader` 物件拿出來的資料做視覺化。"
      ]
    },
    {
      "cell_type": "code",
      "metadata": {
        "id": "Ood7XIg2ViHT"
      },
      "source": [
        "import numpy as np\n",
        "import matplotlib.pyplot as plt\n",
        "\n",
        "# Obtain one batch of training images.\n",
        "images, labels = next(iter(train_loader))\n",
        "images = images.numpy()\n",
        "\n",
        "# Plot the images in the batch, along with the corresponding labels.\n",
        "fig = plt.figure(figsize=(25, 4))\n",
        "for idx in range(batch_size):\n",
        "    ax = fig.add_subplot(2, int(batch_size / 2), idx + 1, xticks=[], yticks=[])\n",
        "    ax.imshow(np.squeeze(images[idx]), cmap=\"gray\")\n",
        "    # Print out the ground truth label for each image\n",
        "    # .item() gets the value contained in a Tensor\n",
        "    ax.set_title(str(labels[idx].item()))"
      ],
      "execution_count": null,
      "outputs": []
    },
    {
      "cell_type": "markdown",
      "metadata": {
        "id": "ZCJos8QWl9EH"
      },
      "source": [
        "### Training"
      ]
    },
    {
      "cell_type": "markdown",
      "metadata": {
        "id": "GUVVaSomYx80"
      },
      "source": [
        "開始訓練之前，我們要先定義 Neural Network 的架構。[torch.nn](https://pytorch.org/docs/stable/nn.html) 包含許多深度學習的模組，例如我們這裡會用到的 `torch.nn.Flatten()`, `torch.nn.Linear`（Fully-Connected layer）、`torch.nn.Sigmoid`，透過這些模組的串連來組成我們想要的模型（下圖）。\n",
        "\n",
        "要注意的是，由於我們等等會使用的 Cross Entropy 來當作 loss function，而 PyTorch 的 Cross Entropy 功能本身包含 Softmax，所以不會在這裡用到，而是等到訓練後的 inference 再加上去。\n",
        "\n",
        "![](https://i.imgur.com/8n9LzOD.png)"
      ]
    },
    {
      "cell_type": "code",
      "metadata": {
        "id": "QJiZ17lzW4qr"
      },
      "source": [
        "import torch.nn as nn\n",
        "\n",
        "# Device the device by detecting the environment.\n",
        "device = \"cuda\" if torch.cuda.is_available() else \"cpu\"\n",
        "\n",
        "print(\"Device: {}\".format(device))\n",
        "\n",
        "# Construct the neural network.\n",
        "model = nn.Sequential(\n",
        "    nn.Flatten(), # (16, 1, 28, 28) -> (16, 1 * 28 * 28)\n",
        "    nn.Linear(28 * 28, 512), # (16, 28 * 28) -> (16, 512)\n",
        "    nn.Sigmoid(),\n",
        "    nn.Linear(512, 64), # (16, 512) -> (16, 64)\n",
        "    nn.Sigmoid(),\n",
        "    nn.Linear(64, 10), # (16, 64) -> (16, 10)\n",
        ")\n",
        "# Move model target to device.\n",
        "model = model.to(device)\n",
        "\n",
        "print(\"Model:\")\n",
        "print(model)"
      ],
      "execution_count": null,
      "outputs": []
    },
    {
      "cell_type": "markdown",
      "source": [
        "另一種定義模型架構的方式，是去繼承 `torch.nn.Module`，`__init__()` 會先初始化好模型架構所需要的物件變數，`forward()` 則是當定義有 Tensor 輸入時，要如何對輸入做運算，並且回傳運算好的 Tensor 輸出（亦即 Feedforward）"
      ],
      "metadata": {
        "id": "RoEAckzObigm"
      }
    },
    {
      "cell_type": "code",
      "source": [
        "# Define the neural network class.\n",
        "class MultilayerPerceptron(nn.Module):\n",
        "\n",
        "    def __init__(self):\n",
        "        super().__init__()\n",
        "\n",
        "        self.flatten = nn.Flatten()\n",
        "        self.fc_stack = nn.Sequential(\n",
        "            nn.Linear(28 * 28, 512),\n",
        "            nn.Sigmoid(),\n",
        "            nn.Linear(512, 64),\n",
        "            nn.Sigmoid(),\n",
        "            nn.Linear(64, 10),\n",
        "        )\n",
        "\n",
        "    def forward(self, x):\n",
        "        x = self.flatten(x)\n",
        "        logits = self.fc_stack(x)\n",
        "\n",
        "        return logits\n",
        "\n",
        "# Construct the neural network.\n",
        "model = MultilayerPerceptron()\n",
        "# Move model from CPU to GPU.\n",
        "model = model.to(device)\n",
        "\n",
        "print(model)"
      ],
      "metadata": {
        "id": "fMV57uGBaX-v"
      },
      "execution_count": null,
      "outputs": []
    },
    {
      "cell_type": "markdown",
      "source": [
        "這裡是用一小筆訓練資料，餵給 model 做 Feedforward 看看\n",
        "\n",
        "要輸入給 Module 的 Tensor 必須在同個裝置上，所以這裡也有對資料呼叫 `.to()`"
      ],
      "metadata": {
        "id": "YzD6y7Tpc401"
      }
    },
    {
      "cell_type": "code",
      "source": [
        "images, _ = next(iter(train_loader))\n",
        "model_out = model(images.to(device))\n",
        "\n",
        "print(\"Model out shape:\", model_out.shape)\n",
        "print(\"Model out dtype:\", model_out.dtype)\n",
        "print(\"Model out device:\", model_out.device)\n",
        "print(\"Model out data:\", model_out)"
      ],
      "metadata": {
        "id": "fGtv0AaNZvT1"
      },
      "execution_count": null,
      "outputs": []
    },
    {
      "cell_type": "markdown",
      "metadata": {
        "id": "Z20B5Ot8cbGv"
      },
      "source": [
        "我們也要指定要用到的 loss function（通常會命名為 criterion）以及優化器（更新模型參數的方法，通常會命名為 optimizer），分別使用 Cross Entropy 以及 SGD"
      ]
    },
    {
      "cell_type": "code",
      "metadata": {
        "id": "degmsiXtW7dH"
      },
      "source": [
        "# Specify loss function (Cross Entropy).\n",
        "criterion = nn.CrossEntropyLoss()\n",
        "\n",
        "# Specify optimizer (SGD w/ learning rate = 0.01).\n",
        "optimizer = torch.optim.SGD(model.parameters(), lr=0.01)"
      ],
      "execution_count": null,
      "outputs": []
    },
    {
      "cell_type": "markdown",
      "metadata": {
        "id": "2vFK8U9egGi7"
      },
      "source": [
        "接下來正式做訓練，流程基本上與課程講述的一樣"
      ]
    },
    {
      "cell_type": "markdown",
      "source": [
        "![image.png](data:image/png;base64,iVBORw0KGgoAAAANSUhEUgAAAtQAAADiCAIAAADh88c+AAAACXBIWXMAAA7EAAAOxAGVKw4bAAAgAElEQVR4nOy9T2giebf/f+7lR9XG2qRW5cbapFblRuGSWlyU50F5hi7oi2EaZZoWMggdDC0R7BYSDJEE7BEMCUoHZAJKD0o3KZ6GCnNRnovF/UKFC7qxVpVNubFWn2zKTdVmfgvzRxPzp/9lZno+r8Uw1p/Pn4rt513nnM85//bbb78BBoPBYDAYzEPx77/3ADAYDAaDwfy1wOIDg8FgMBjMg4LFBwaDwWAwmAcFiw8MBoPBYDAPChYfGAwGg8FgHhQsPjAYDAaDwTwoWHxgMBgMBoN5ULD4wGAwGAwG86Bg8YHBYDAYDOZBweIDg8FgMBjMg4LFBwaDwWAwmAcFiw8MBoPBYDAPChYfGAwGg8FgHhQsPjAYDAaDwTwoWHxgMBgMBoN5ULD4wGAwGAwG86B8Y+LDHqqHct/65PuNVrl8w/22LpcbrT66TzNWX5ZVY9wM0lW1a3z6kDAYAACwjVa5UOtcfJVs675fKrvfWCu0htdPWN1GuaHOOIHBYDBfl29MfCC1VslnCp1PXOtRV6o3W+asU5ZSLdUrkm7foxm9ls/nS7J59mEtlZeMTxsQBgMAYBvy5tOn67KBgCAAAMBopB4//mFTNm78QtrDflcd024rnbZy9mFCCutyrS7rzkPMAIPBYCb5/37vAXxZ3Iu5ZPvJ60JJ9G8IFFittaWKdvOPKxPd3Y+xl5+HJybQAYa6fqUh1ZQRE0mK7jvHYLWq0sC1sBXjPmEC3wz9xlrTDKXTQfr3Hsnvzuc9CktvVUslSadDqz+viCzhjBBCtgVCMj0olPJPNTW7nRM58tqNZruwXEUeD004aOCcEs3S0EU4aDAA8c1/Z/0AYGj66ZzXx37m/DAYDOaj+cbEB4B7MZ04rhGu8Sea4zjHAQBAfUUbMT6BO1cWqK9oCE0JEzQwTMLDswD64WbNDKRXztYLq1WpnbgWcgkvCYD0lmr5Rf/spcTqViqKM59cCX/mqtstP68MAtmt2Ix1BQDAOMzk2/zqftz7ef18HWyzp7SHXALgxsdgdQqZpi3mNm4SdP3a8x0tlCsusl9pkA/DPR7FjSD5xeP8sQMAcHr0+sej15MnCcJFzLksJf98Sd/eSwuTzdsWsiyH4OK7b2JuR37xXdWde5v1k0h+8bhsW8iyacrRugPCG/84jWzpLanR7iKbcgciicUb/hVgMBjM7Xwr4qNbeJxpTThbuo+rQAdy+xvbRQAAsFuZv6/rQrKYPVurLfnF3zVEEZONGJoBjMhSYKnH7bZBiRG/4KbA7lcrijP/bEWkAcAypEq+xdhv9xevL5p2v1qQTCbyJvq5Zg8bDTRN6WUK7NsNYYYpBqwTXdOI0Wd28zviIKPX62kZ2nOw4p0lsJCuaTr38R40W5erLQgnZpkD/mTQQiwSoOhAiGMoF0GRlMtFkRRBEBRFAgCg4ZAAvZI/0g0k0JdCoFv4fvnoFAB2/us/d86OLf+ndH765XeD1X/uMqrmuLhetaxf3EcxfnFRuFFQDFtry3mdz+ayPrK38yL1fLD7Nu3/0z9lDAbz8Hwr4oNZiERcl+sU0uSjnkNSrvMDI8dygHBdruKO7QCQZw70fvl5QUEjZJ6CU3/6H/XxJc3UOvPPg9ioWZBMT+TnxFhPUP7VXERd3skfClflh6XurDcHQAR8/Jf6QTaP1tb4t3szdM43gnNSz+T5X7a/oHtm1JfrdWBi34D4sAxFURSXJxoVz/UZ6nc00uujSBKQvPk0b4o/H2wnurplA30xX3/2/a+R2vPlXuTdheVj99255YPe+iUtuLRCd0Q4ekc2AJzR6cghXHMuBoQbxYfRWM+3iejbsZPHnRBrT5u1dtwvYusHBoP5WL4V8eEOxleC5x/sfulpnfC9enb5UmZbDgDFXBo6bMcBIIjxBTTHccgyewOTDq3GBZrQm/mmFdndEmm9tl49oSNvkpcv56Q/mX3USVUKsrA34TIYymtr0sxgVUDdeqFw7Sea4CNp8VYLCbMQYrT2TqbM3WAcuAkbDU0LKMZNX7/Lti0Hzt6cr5yxLIeYPGNbFhAUSY7/f4gceqJB20IIWUDRND2rsfvhCYQItZ1f49mp4Js7uWmCtmU5luMAgGNZ1vjPTVAUCbZl3Tjpe5+w0PCWGU8+PttCyHHNevxXbgBiZucAALYh59ckO5B7Ex/tPH6MkgfFMLQKmXWFjPz8Lku3C+Vj6tFuwksY5eqafJQ+KF58HUmKpijCGbZ38hoBpu4gs5ZfkwBM3YEgRVOgysqpK/DTr9tBEqBfevyjGtp/v3Lz19HqVKsa+F5duAE9HEM4mtq3xeCfXuRhMJiH5kHFhzXsqj0d2RTDCYL39h/mT8fWmwXJnI9uT8YSIBMBwVGXAsBxbAAXOV6e3OH0RrhfenyEhHhM5MButQEIjwfUwlpFc5gAoVZLyshC1sixLDSyLOTA6Lhc6QS2gxQAAFILqcKxMx9YGCm9a0NyTtSWSVw9SlgLyTveztnodoRYenl/4wDqNsqVWls7HQezuDwLkWQ6EWQve0Hy8nevXbl/7YlXnTl6delpk/vp/20Hx5/t1vp362j1n0W2XSjVlJMRE/35Q9prG51mtSmpPfPc5+OaD8TT2fin+P8pX2IrYD3N72QK3EHWP8u/9BETtOTM3/PH4wt3nvx97HDgV/95EBtVl562hZ8/pK9EyBi1pSeVUXTWiadPJeHN2XGk1krVhnLeKzE3L8RWVqOCe+Kv1935frkrvj0I9Es71bZ2CqHLR3kdq1tOZZpIyL3ZDs80aw0PU0uveyMXg6T15zayTLO0WeohSXHm5kby+lLXOhmMCFev8P0/rNFo5DgnhUyZO1i5+ELRvtgqjIOaHL1NUG6OYwA4jnfxLFiKpI5gZAxMABYs00AEwzK3PHdLkZQRcKFLs4gDADBCaASAxQcGg/lIHkp82IaczxTag4sATxcfzRW/wl4Iu19Zq54wkZ8THr22qXArKwINYCOEwEUzl7+SjuUAce52AQAwel3TxQkeAICRhRyCpkhdUQYAYCrNOkG4XDRN0zTlohnOw/kFpDTbVSkRjLNWt/A8Iw3oRz/txQYvZogPJvrm2up2P0g6mC0+05fq9zEODOXMUl6lAtHsbpj3uBxTU6Va7eVSL7n/Jv6JPgj7eOf5TpcIxHMJzsOxYHd3Ui9brlAk+VPAy9IuQLoqVauV1Avr4JdbXpxvhHCL29vaUkpay/MTr+6fNEEqkH33zkHy2nIdnr3ZHvsDCNoNAKI4X28cdZPeqRCFviSdAEBLunpClySTiUS8AGAbh5nnr4/BF0n+9MjPUmAZ/bZUr6aeqsn93enn6ui1lKRa/sjqlp/l+Bvn0dlMrbchtPVmI3jThN3eUOARS9EMQ7soiiIMuVBvSi7f6v5u2KpkMk0TXPOhRExgaJp2URT0S5l6Q41vjNUw6MqRptvjjbiWA46FjPNtuSZBqpLqMMzcQNNtYElTNx1a8Nwi/SxV6Tng8Xkvh+tYI7xJF4PBfCIPIz6sTv55vn06eWikNddfEAcTb2pfAtTJrzcHjudZiFLWn1cNYWv8e4tM0wH3/MQP/ZTbBQCQpg4IPjYO1hgOELg4hhaSu2+iFMMy7hmmcYu3Mirt2AAU7aHohVe7G0HaqH3B2YwhuZViVr/bOGA01gsq/ezN/or37Bq3m/MHAnxqqbJWFW4zqd/CidJfyL2dcC/5E7vvkix7MQy3m/X66dHjdanWSWx/kgWeEla3V/WlncJ6jbtFJd1jgpSbpYBiKABgWJadkLZsSOSrVam36hcuHUfdoxaaj0RIuSWptj84cUJqIS4eYgFAr2ZeH5OPdg82Ll76Wc4bDAcKS6lKpuJ7l55wiJnHCr168PamHUoAALYhr6fyKhEp7mdvDu0EAG5xY+P8ltZOXjp2PKFcMSeypG0ldg/4Sr4gtZstejUd97IUAFf8IJLkRcdDVZaM0KuYnwS7qx/pFOP3cwCWWts5UhTXiIm8SaLMjqZDmNV1k+B8t30/9F7fAYLlPZeHhgMEQFCXcVUYDAZzbx4kydhQrk8rjzHOiVRVvmDqT6tffrHeNgFgUP/xacEIFvfPXywHugEuj3vit96xbHARF0uo1W1pDif4xj4UXTeB5d1Aur1+LztLeQAAFd7Y3xi7TdjI7tuvuSPULW5vRzwDaS0v35iOsi81NVconfBOqxOSjWXjnoHUUO+THm0G87H0tDmCnlAeZ1CBkJ8Y2/A/DZKLFXMBl1bJFNSbvhGfOUF3OMI7qjTRvK1KrREfSyQiPkc9mvgm2j25M+Ifhd0AdqcmDeZCq+mrOoHyr2ZDc6Zcn/4GM5HV25SH1a+llvKqK7p7cLvyOB/JUD3cXHr8ZL1lB7bevt0WabNTfvHku+/zOp89eP8myQ2aL588/iFTlrtDh7zaMUmzHo/Hw7IkQdCcx+PxeFiGAsKfyG1l436vwCFV0W2tqwG3cNtbwNDQTwFAr6eeX1BomQA0w2CfCwaD+XgewvJh9VR99plRv6dD2P9FOumWU5n6icvDjAYmw/NIR/bFaqR3tRFw/OSrneWMgLzYaWt3Fc0hWIQscFNW/1gHT4SjAQDJmaVyf+ayRrLxixRlJHV3tMJncadxYKhpJrAsMdCvPWvbRbtGWncAwifYPpjZSahsazgwTOvc7u7oyIER+hwzPB3eKmpPl5s37e757AnSgYhQykuKFRxHu1jKkQpCNkDTIAqlvKyg8NhPY6mS4viyYRoABj1tRHhDszY7k3zY7zrq9gwIX3jUCP4W+wFSSy8yzRNnfrWYviO6xR72lbYky8rxwJnzibmfEwFKb1VeZOSexYqJN9uLXgpsi4sVP4T7cq1abeaX68TcvBCOJ5JhjgQAiuHmDbVUUEfmienMeexGoTBufJ5juGDYDwC84DFlWULqiIsLtzm8zJMhAOF7ll25mKpee9E7ITwce+tEMBgMZiYPFPNx46r0ia/jVzFqqVRdo0Nbu2LveUpmn20l20sv11/Qbw5WvCTqawPwBLwTr5rWyHLARZ8vAWQwmYsY+fry08FqLnDcHc2FzxYy2zJPyYVoiJuOFx0odQXdq87Ll4LkYsVc74f1SqbAzUj9MUIWwKCaej7D7+M4jotxPu1RE9fyvSK1vFloHpvgmrvc9GGjT8mhNQ3pTRdX9aXXO5kSd5C+urvn8ydICY8EYl1uIXGRBkCKpBJCMUABQCAScGWkzlBcdANYqqSCsDV+wpZlg+uG3Tyki6ZgZE2mWnHdtHXF0eW1503F8XhcJyfVghzYuzW6hQRdaqiOP5LLhhlDahZ+KJw4zEI4WsyKfjcJ9lCt7RSqfS57UBTF9J6YMNSWJB3pcBHX5F85+GVlvPPrR0Uovk17SdQpFY751exFhCsbCHsq1YoJfDJw23BsC40AGM7LcefaCunoFGDez39l1Y3BYL5NHkJ8UBzngePBjDME52e/SBds6FHIiCY2wu7uONzTHcxtRzMS7yYBhp0jDRgxMGX4sEYA1ETeD3cwe8Dy+Uzh9bIC4Ik+urTHEB4xsRKe/pHtDJqK8VlDNhqZCoqsrtz6xjnNhHHgoHjlDdtFU0As5D7she9cDYizLCdXsWcFEF7dozM8XMvUzcDWu3fhiS00oK79LaXdYwp3wC5u57Sll81Mnv8lN931R0zwJihBDLgyR63hYsw9bEkaHdz1kQAApBAJ0stS21iMs6gl9VyB4pm6o2gKRghZANd7tRGygKbvFfMwaNdNT2TrIBu0W5ml9UKmfFNqtTHuxf3/Xhz/r0XMe0Tfs3DAS5MAltFp1Oq1tk76olsHifN4VYoVFtPC4vntem0pIyGAsXgGwlp/ogDYFjodyX21QrpCW7+seAHYQHi+UjEXorcH+joj2wGgmUt5afdVHYDx49zsGAzmk3iQmA8ulgjM+olmxHjoC213cS9ubExvWST96b3tIA1gtCXNYQKPpnabjEx0LViOZMXt3SRPAICla/pXLkRrDXRFVj7SeEJ608VVHxzvrFV69tSbvtvv8ziarN7ZoIumCDAH12NHjF7/7pgNq6f0HD6anFIeAPY4t8YXgA5mi8/mR+1CpjmYavLeE7wFUoiEaV1uG2C0ZZ0JRS52uHgjIWYgyzoMW0caHYycR6V6BH7O6bZn9WqpbXXkus3PMoknsnuQDdIA7nBuO8oM6uv5zv2mQnkXVyJ+Um/XNl98/7e/P8lLiF85+PXD3krQTdrD1ub3//ihdCVShgmsZrPZbMJHjBw+ulXcyGaz2WSQdlwL8Y1sNpsWWQAAQFrXBHBGdxjxCBdJTP1zsXtKdwSekPiHzO2PwWD++DxMVVs6nNtN+uYmDxFMKLe7+vVTM6NWpXZC8NHI1M+kPUQIXPTVVCNWp9LUwOPzkb2d56ly9yvqDxshBPSsGnZ3wC5u5x7RJ83K0XQMLxeLL8BxafPwap1TS5fl/uVMSG+AJ8xWvTW93gzlSuPkHt0TJAGWeSWruyFJ3S+27ZLkVorZBdAqFWWqzftOEFwURQAyZ66nXjHEDGTpUJIHHnEywxsnRjxmWzqUZJ0JXX5ZSH88zjtKqXA10hd1CjttZz4ev9/+nnkxehHmQfnTxVWf1c6vHRp332nrtaW//ed3TzNlGdFi9udff32/lxY5Cuyh2lh7+mRdIYKJ+BU3HMV6BYFDijIAPhDyC4IgcLaqDphwPCoIguBnKQDbOFwrHVM8T2vV0s2RzABAuj0MOJcC01Ik5dS1EP9r107EYDCfwUPl+aC88f0PAbWtqJoJLg8fOLMif2VQq1BSRnOPEhF26rg5MBxwz09lVbL1RibfRnzyYDfuUteWX9YLtfDubYmX7gVBEON9vdPoPd1x8Z5Paf489cfJdKO0uLGtvci8fvpEEaPhBY6hwRpoitxo98jQbsB7vj7RoXS0sVTPLz3vRSMBjgI07CqSpIIQmG+rd/RNCZHQXEpaW2PS8QBHkzbSe1K1rFo0cXNgz0dznvpj2lV33wmS/gBPKFKhxCVDDJg9jQjFL9JpcKLoqVdeDwjfq7O3/zPYcISvvH5dh/nk9uSaysa2ctryev7pD0okMs7zYXbbDal9QgRyux9Zlu2i0bF76Sy65VYFSnKRXJF3WJ47//diD7ttSZLktjbyBBK7+/Gb9s14QvGI3Wosf1djeMbRB67om+S53LcNeT31WmOevXkTHxW+TxUyZc/lHuarcOGApy53NVsUSECdUkWBhVwW51XHYDCfykNmOCVZQWQF8cH6s7qlF3nllHm0mxZIALBtGG9GtPqSfAJMlLv001j9WiZV6VGhn4pxjgQIbr/ZDSCeI1sAjlbLvJCnIxCQ7syIApgFw7nhqFXKgH8iubtjqrLpEpKfaPk5T/1xJZ0ZLWQP3i5Uq/V2JS85AADE3LwvuPpzcnFyVSG5lf0DtlKqtnbWJQAAF+MLp/eTvm7qTvEBlJA9+IkqVKqZpzvOuIdAbPsN315avvPej+B8d8+0+eKeE6TF3JaeL0jry00AgvElfFG4yEXKhiJ89bUuRK6WHabDEWGnp3KREDt9wh3efssK1WpD3nlZdwAAXJ6F8KtsYtH76asvHcwWk4OlSibP/1K8vQIyxfp5a2j2O1qvp6qq2huMiDk+ENvKRsLcLV9C2hsQSYIApyb1DDRHOKi1U2ISiQg/alc2S9KAiRb3V7wkQLoY1ZbrqZSzXby2p3gMF88ltczmUsZPD7s6KeQOsreHiWAwGMxt/Ntvv/32e4/hi9It/GNZ9v70/4p+dfNp6sjik7tv4l4SAIaNH/5r5wQIgnAcB1y+Vwf756k5jNrS04rOPNravZpxEh0+/+61Pu/j6avi4/iEevbu/Qo73b1R++FJ1b31r2L4QlZY/UZhR9KG1qS3gKS5QCKbvjG/5WdjW8gB+q4dwLaFnJu3aNx1rzUC4jPqunwe95jgjWVbPqfXK+VvvjLGYWat3h2Yo7HQ8/B+IRAIBQJe961DGHbKlabS1QYjYt4XFmNRUWCJoSpVq82eBWhggieU3c5NJPdHauF5RjL5V+9mVWs+wxoa6IaKQRgMBvMxfHPiw2iVaj0ulhU5sI2O4vgvXw5RV27pyHGAcDGcEPBP/H7bekcB/4z3SKvbKMkQycau7EzQ5ZKEhMQ1izfqlMsKE9lYxJF4mC8B6tQaAxfHcRzHsfdf9IedhjJieZ/vukqx9ZaMeFG4fsLo6pT/M6w5GAwGc1++OfGBwWAwGAzmj83D7HbBYDAYDAaDOQOLDwwGg8FgMA8KFh8YDAaDwWAeFCw+MBgMBoPBPCh/KfFhW2io99WOfHjYmZXQ0UbdlmpcPTpslcuH6m0JIP8IIMO4OR+rrbcOOx+RL94eGsOvnF3+3gw7tXLjYwaPwWAwmD86D5lk7KuD+nJHs0aOY1nIGTmWZY0syxqNLAshhEaj8zyjhIvhBm5/+mppWFMu5askensQYy8P9puVepOmI4vC3f2rjZpKhJKLt1QMAwC9VVMtLrQ4UVLOstDHF0chiIsMHUYj83RnyEXTuatVVwAAjOZmvmL6SO62Uqq2NRxoWr+rKqraOzklfK8Ott1qVZlVEBAAXL7oSpj92CF/PEhtVuuajxODOJU3BoPBfCt8U+KDQJok94EkSYIgCIKiKBdNIu34hA6tpgMMPebmHElsNC1Ky9VKK3yRcxLJVdkEF601S6UZHfKRyRUYdaVmk/bEbxcfw26zUhk+4ifERyf/3Uvl47OTzz16898bfgAANrK1ZeYLzfWnqpLb3Z4qsTc8LFRPwPfqxpSUxmEmU1UHp2cDmOMfJXJhISCwqLYmSaaHZ6+INGuoDRw78BDiw+73dAc4AVdux2AwmG+Ib0p8UMHsL8Erx4zaD4pGC6J4n0rspP9Z4pGFLq601HL1eORi5m2j2zVmXE8EYGIFJigCwHHGmUztfmM9L7uSexvB6bRN5mAI4OYmq7qwj5JJfob40FvV9gkTeCbOXHsJ12UjpDuY3vcGyplMsyYd9pRq59xP4YxORw6AVln6R3X6fnds7yDOAbD+kOgsMCzHEsrmcp2OpOMiBQCAAIDwJw+Kwekbu4V/LLdmDOgcu1tOVXq3iylXKLs3VZfMMtSubl3eRDD+oNelKd0ReHiesm37WhsOkL9XflUMBoPBfAbfivjQyz88l2ZWhHdGACeFx3+bYbgAoMLbH7ICGI3nz6v6xcKnfF8jGHGjKLQKRybzaPftxlUHzWwIYmIpJFmegUozv8ZzUwmrLXN4CoSfmVQkbHDS0XOJqtfaAyYUj99HOQHQ/pU3b8URTej0yIUsAEA96Uhz8Y8ivut5KymGPzvIhuPj7oe9a1d9Cg7QLHcpLGxDPepZ84HwZPJMD3elpp4pl17WJ3w8RGDrX1t0Wz0FOG3++PfmrI4IT3T3bfrrl0bGYDAYzBflWxEfTDiR5Wa9a6N2ZUchQsnETP1AMBwAAM2FxAh/cUtPOtIcs5VfOzIBXGpp6ftZXbLx3eK0J4MkAC4r2FLe5Haiu1TZWW/4J6JIdE0H8PDc11kxSTdLAgixuAAAxuFzacQ82t09F092t/R0rRsoHqzcHpXymVD+WNZ/+VEvf3+k8bFcVrxNQnHx3Xfi5F+Qop1eqXMKcwvRmP+6djKU6pFG0LjMCAaDwfz5+FbEB8UFwxzYhqpoaEqDnH9wrgR0Eh7h8k2c8i+unK+WdrfwpO5aSK8mXBLJml2pTcW3V31TdeVG7UKqOUTXxA5JAFiXrgOSi29EW0v1auEwcG79GOr6KcwJ3L0ryjl3l6q3uocS8l4pcWr1S2s7Gps8yF7KLtIfibLy68w6ezChm/TDTKltAQBY5gDArKWeywQAn0hTAA7SVPXKAm8MPyY+xdJ1E5jAbfVXAQCAcl+JLUFyrX1K8KvZdMxt9xsFyRTi6XMvl16WKzAfDrAfMRIMBoPB/DF4UPFhDbtqT0c2xXCC4P0K76xIra7vGMz8RAUuGyEAonckTVj0raE2GIV+CnuD15swmhUZzUeLotsNK1musSS1bcPQXVMXOcgBIK7dSwABMC1yuERabC9L1WpX3PCTALauGUDw/o/YunFcePyDGk8kosHr+1jOZt2sVpTTajWQSK9GBTcJYPVrmVRz4InkeKvX6VjOyLIsZ4QQGlGM61QppEqeg/RZGXrifCqOY13OizhTAlo9lapf79R1/dANGJruuPy85943jLH7tWrPcQWiohsAnIFydGSQ4rn40FvKgOBXQ+xHtorBYDCYPwAPJT5sQ85nCu3Bxcrs4qO5Yjr4FUpocs/29hcv2jVqPzyp0IndvQmbf3fzH8vtmfcatXxVo8U3cUYtb+qBdAgAAA2Oj0fT1w0tgOtDJwiSAHCmIiNJ/7PkMxeEx24Wu6eoI+AE30ds3mA8DGpXXrYb/KPE6sri9aqjdLj4gVebO6VqJaUqq28PYoS8U+mNAE6k9WXpbGwul4uiKRdFUfwCP+g1M3n+l/GmHnZxe38RAKxO5vHLAfDxy4d18L+RmVuAHQdc9/zTDTX9FNiPdTPZejXfNIn5ZGIc7nL2UM+Eka025IFL2Lpl5zAGg8Fg/rg8jPiwOvnn+fbp5KGR1lx/QRwcrHzx4Add2swcX1o+DBMANfIZZWI4+mjWjXa/vFbVHFeAJ9T8WnMYFhwAAMIb3SqGp0ZpyS/+nkfXGhjHfFx1k7jDKyvnPWgtdQTzAeEjFk3CE98vct1qaad59PrHdjOUzKavxUCQbiFefBvqVKXx7ptwMkdZNEPTNO2iKJq+uinEOHz+vK50UTh82RBqNdURAPQaVVVICzQAAElS4CCEEEJD00SmcWIMDF3XTxCbfPMmfo/IEVvXDJgL39/NdDYhOhCPmEYoemYish0LYDQcWOClAEzDBI/4LID332IwGMyfkgcRH0O5Pq08xjgnUlWJF++3k+P+UG7/wsKFV8CE/vGAYn0LE20XtK8AACAASURBVFEbJ0jtXZMOw9Z6pn7iADhK/kfV86i4n/bTQx3AUQvf/aM05WRxRqcA89e7JgkCHPvGgAhLlZRTmI99dKACyQZX9oSI2iwUqu2dZVV+lN5Ii1ejKEh38Fzm0H4x1C1nqk5sO81SoB8WGs6jdMxLgd7IlPVAdmP3g0iSE9rB7tfqGs3MmaZjypkXTnFvFapPMpI5ORuXx8dzjD8SinMcf4MT6Aqmpo8Ijv/oDGG0V8x6J5oZIABHUzVbFEhgY/sfIjaJY00xGAzmz8lDiA+rp+qzz4z6PR3C/tknPxVmQVyccLuMpLpCC+LipNtFq0rTI0KdzVReceZ5z0BzeB9oBkI2ANCB7FuBAK36Iq/Q0eJ2ZGJ/KEGzV7smCOIiz8d1hnJdGRELMfHaffeCdAvxvXeB1k6+IB3l1yjP+7T3+lXIMAiWpQAcpPeOnbADALZxLB9Z8ysxL4Cl9481zwhI99TSPWxXZDuUFPXXdTq5zUqZzAtXcWNr9xFQFO2iKKpfePxSDaT3N+5O9DrJfaNN72Co908BYKTKqi0ESQAgsfTAYDCYPy0PFPNxozHgpoX6M+i9/u4/Xk8fOsn//T/y04cmLRlI3lw/Mj3R3T2f9PilIaSz/OZyaUemmVqmxa2uQL19CgznqJJ0eRPNi7Sbump8AAAHbAASLL0jNY4scWtlnIfC6lRqmgO8MCPlxv0h2XD2wB847NLiDOUBVqewlEeJg4MYe7ZN5npY7MzbKmWNiWX9sAYAJJ/eTholYDgvOzWzT8Do3TPatN/IVNXpbwMpJIoxLwDAUGmfAOGZZwaq1EZB8StECmEwGAzm4XgI8UFxnAeOZ9UIITg/+yV7ckeKvwamU2GazdRyk159mwtM7c8gSeryMx2KJ4yYuOKnOxIAAOFNbBf9hCCQhCCvv86Dy+NbYGBoGOPrR4OeZoLPEwpfeaMnCBIcq9euKVKjrZ06xFxIGAGQAKiVL7RPAUCrZMr8/or3c0wBtLAYnnXc7lcryoh55mcBwLEdICjiHuIDtfKFNgR+irDEubhiY3t7AEarLJ9biAa6A44ul8vdswOMEFuckX7jStP6faNNHXNomld2Q599tvvNpgauUHJbkJbytYYe+vKBQhgMBoN5QB7E8sHFEgFpXbkW5cmI8dAXfIm1DVXuXq0+axoWAGhd9foyTPvFs92rpD++MnWKZAXB0uVSrTsCAKA4MZ0Tx9da3dLz1PHcQi63eCWIEvU1wwboNfM9cM0HnqUTsTBHA4BtNNYKyulcILfha63t1FMpav9N/IsvoIa0Iw3mQj/FOQCA4cAEF3OP/cxGq6Y6C9l0kILph2ebPaWtngkCGzngDLrt0XmDHlq8U3zYes+AuTB/j2hTf/qX97PP6M2CZILnWTzIeqhwdblZaIoHZylZMRgMBvNn5GHcLnQ4t2tmMpXeZdgpwYSyu6tfNDO2Y7SaTe3qQTQCGHWbTf2a+OCo4E2pMwDsfnWt0HZ8yTcrHnltPb+0rGVzCUYtrFcUi1/dn0puOuyUd6qycnIKQHgWItF4VPSfx1RY/cZaZqfneKLFnOinQrtoebleeZ5yHewu3i9m834guVTVwPcqGaQAAIxe17yfYYkV0zmWDV/XEaSQff/h/IO69reUGtj48FExH6aujwiOv8cgbsJSC2vVE8cTzSY4APAnkoHOeiVT4CZzp2EwGAzmz8VD5fmgvPH9DwG1raiaCS4PHwgHvniWMSq48T549eA4z8fK271bc3tfh/SmD95Fwe2mAPwHb+hUqr7+RAIAJrT1drpsLIAzUJUB6YusxqMRYUJRoH6jsF5RTJiPFvfSfgoASO9KsYiWUkevU3n6YPtLJTqxOqXy8cjzLD3WRJZaa5wQvphwn+Ypf/jjokjvPSi9+1nRpsPOZmr9aED4VovJM5lKh3Mb6tOUlFmyt3azQTd2v2AwGMyfkIfMcEqygsgK4ldpG/U7XXNWWCvSRgDQVVozox8Imhf8N61glNttI6OrypLcVrQRMedhwByYSimT0SKPRMHPuc+WVTZS/GfE7Z5YZC29I1UrNWUwIjyhV9vZxYkVmBY2dl+ZS6/b6xnu4Iu4Xyy1tNM+ZR5tjBtDrULh6NQTTcxyapEAFkLIsggHiGsJQC6bNLpdw7r8rCEHwOx2OpcRNSTtFa6nPJvA6A0cF//RuU0BAGyjtZMvSNpobmF1rxibEHSUsPFmy1nOH718ooUS6UREYLEJBIPBYP5cfCu1XfrNfF65YU8NQaB2IT8zpSnhy76fKT5svbG+WVNPTh0Al2chnPwpKgZZyh525WZTakmvlSYAwYRyB9thGoByT5pCUCvzw7pyCgSz8CyXTcx4P2cXi9va01S71dKj3GcXebNNw7TnAukVgQKA4eFavm3xyf3kRcMMLwQsNwEAwC3456Sj1HdHAOB79etELthpDCn/snm1THCv/nKy7u1C7l+3GpS82Q//l/2U+fRLT39sDmDO92x3e+W69cYd3n7L8IV8pV1ZQ8TB/uySwBgMBoP5o/Jvv/322+89hj8QulxooMBKXKDBkEuSxQl+n4+7Lh5spPfUrk4I8fNCZ9NY3UPJ5ETxNsOArXd1xn/rthejVWpqnkhy8W7rCEIWTZ+1hfoq4oQb77EthCwbACjaPW35sLqNqkKJSZEjwZ6okHcDBHWj4eQzsfqybPJi+HajhqWrBn278QWDwWAwf0Cw+MBgMBgMBvOg/PvvPQAMBoPBYDB/LbD4wGAwGAwG86Bg8YHBYDAYDOZBweIDg8FgMBjMg4LFBwaDwWAwmAcFi4+Hw7aQoffVjtw47KJZ54dq6/oJXS7X5P6s6/9IIGN4c4Fiqy/L6mTGstuxh8bw3hc/IEN57Xmm0f8KhZhvQ5fLtUPVeOBeMRgM5qvyrSQZ+yMw7MqKbjkOsizHGVmWNRpZtjUaWRZCCJ2OztNmEC6Gdzg+fiW5mK3XC+stznlfnCgZb3VqpbrCs6Lovat7pDZqKhFKLt6etExv1VSLCy0Kl2nRbMsaOXcl9bgGQbjO8nzY/fLzH5vOQjSbTQjXkqLY/cp6XrJDP73fDt6YtsO2hgNN63dVRVV7J6eE79XBtlutKrNqIQOAyxddmZ1h5athdXbKihNPfHZKuI/DUBv1iom4RYF90H4xGAzma4LFxxfEVGXZAJIkCcJFUCRFuGgY9o4HnkeraYEewzDuGzJzkd5kMtBaL5e7oY3zgnuGXFdG4HK0Wkm/fgfti8aDFxoCdaVmk/bEbxcfw26zUhk+4ifEB5Iz373u3XLPDXievX2/wgEA6U0Uc6O1Uj31VI1u76WncpLqzYJsugJb6RuUh3GYyVTVwemZ+JnjHyVyYSEgsKi2Jkmmh7+aaMwaagPHDjys+LD71YpKiruRh+wUACytOwDC5+cftlsMBoP5umDx8eVwi9u/XK1c0y/0FJMNL4r3Kd1GhRMJpUEQDgAJAIBalarmuDy01e92Z1xPM2L88hNBEQCOM7bP2/3Gel52Jfc2rpSuMwdDADfHTBxyeSOrSeG65cPSpLqC5h8lZi/zBO27aIVkxewvvoVCZl2utRi5VrsYrjM6HTlAdAs//KM0fT+X+GVvkQbWHxKdBYblWELZXK7TkXR8nLIdAQDhTx4Ug9P3dQv/WG7NGtDV4XcKmaYt5jZE9+wL+rXnO1ogW4xxd7Y1lCsS8mUTs6swD+XN9RadLK7cVaQZdQprdVvcmjUkS++oxsQfgWD9QY5QlZ4DnMATtn3N8eIAUCSurIfBYP6MYPHxRVALj9daM+MUnBE4ZuZv6qyydsBE9n9Z4aBf/iElXdZRUZUKwcaLW3S9oIw8z96+XblX7TmCmLiKZHkGKs38Gs/tL06sdJY5PAXCz0wqEpILz1x/LblbVywuHI/fr+itO5jdf/cM3E7XQYwFAGCqzfbpnC8i8q5rV1MsN34mbDjOAgDA8BOsL7egH3d6vVNjJxAozjS6GL1WT6dFZsapK1idSlXzxN+KsxO527rS1o6JphL3h29Nlt9Yy0s9CEVnNqNLhXXp9PLz3KM3wTRqdx0AbefJf+7MusfFJ/cP4ndrJwwGg/mDgcXHF4F7tJr1zYiacHS5VO+xkXSUn1lUl2UAAGi/GIHzkFLHVKX2APRmRlFGQEB77akyq0s+ebAxtaiSBADY57EblDe5neguVXbWG/6Dy8pruqYDePgvUEl3JuMCe8H4ShDA1stLTZiPFnfTZ44g1FlbKqBn+7uL7Nd/YR/q+ikAnCo7la6QvW6TsHRtAIzA3V0SV69VFAgVb/S4DHq6A+CokoLCN+gTALtfWqv0RgD8DQ+fTxy8i05aPigGKRl1BJ7AM5G/NkpLl+ttk3DhwjYYDObPCBYfXwTaGwx7wdI7qj6a1iDO+D/OlYBOFxcIXqx7biG2cm5csFoZqTkXSqTjFk33TEXqsonis2npYkr59SM0ujoIkgCYqAZHcvGNaGupXi0cBs6tH0NdP4U5gbvBETELB+wzL9BNoE6jBUIkOKUoUKeQqZu+V2/TlyEotBAN0cuvUwX64NIbpB9mSm0LAMAyBwBmLfVcJgD4RJoCcJCmqlc6N4b3iY21dc0AJrIqdHfkUjP6y5l1ZaIZTXcIjvfc1RCSyxLynVUMnnmBrpvg4edNTWoNxdjMR4s6+fUmcs3BKXA3PHySdrPTSsKoNY4d10IiuxKmkVort6zAysrZc7O7hUad4ENBLD4wGMyfkb+K+LCMVq3aVLShZZM0J4jxZxH/9WK1n4nZqqzX0VSIpDV0wDG6kjQRL2oZ2oCK/BzMXt/AYverVcXxvUoItBvSaaakSA4aGPq02cQcWQDX3AUEEADTGodLpMX2slStdsUNP3m2IhO8/yMM9aN25rEZiicSkev7WMYYrWZ1p7dTnQ8l0umYnwYApJZerB9ZvmcR1lQ7+vm2H2ShEc0QJ0f5DOd+ExtbAAg4m5zjWA6cfyDOHqFWT6Xq1/u87sW5ykDTRwTnE5MLWudlrSSLe9NGCaTrJnDRu0xAtlou9+jIwY0WDQCjawATTiTQ2ktJ0mMr1x/u8HAzr7iiuZC23nTx93z4VqfaOIG5R7EADQCW3jo6Aja+AjQAgN2TO6cuIR3G2gODwfwp+UuID0stPC8Nw8ncwTZLgY367epOKhXa3o19efcD4U++KQYvmu0XHv/Y4tMH25dhE3Yr8/f1GXtXAOx+Jd8czD/bFslWYdOJpj0AAMg4Pp5O82Ebs979CYIkAJypuETS/yz5zAXh8TztnqKOgBN8d7saLltlPLRxtJNq13yRlXRCvO6mYGP7H4RWrVRp7iyrva33xfCwVmieOAC9+svlM+VAuOZcFEW5KJr2LVD68U5mh32bFSgAdnF7fxEArE7m8csB8PHdPfGsj4P/jczcAew4cJe7wdJ1EzwiR1FsemXh+3y51AlM7fTVNR3mAneZgIxmuQ2BrdvCKoa6fkpwPC/QYWa5LfdX0tOa0tbLmR2NWz1IENXHwETu4ecBAEst7bRPCd+rhDDjK2opknI6F44GPuIPicFgMH8g/gLiw+oUSsPI7t553CVJe8XsG095abPq/2XGe+rn4fTr65mjy851BCOtmslIl5egvjPLj2GphfXmAJhHvC2tFVpOPAIeAHD5EsUN/9SVRu2HJ5Vr949jPuDKau0Or6yc/a+ttdQRzAeEj3C6AOFbOUjT7UqhLDXzT+XGo/RG+poCodjwyl5AlCsKI9AAdDSb42yaoWmapinKRV/ZXGzr5aXniqJZwqUvA7Wa6ggAeo2qKpxt1iVJChyEEEJoaJrINE6MgaHr+glik2/eXM2TMoWu6Y5L4BgAoMV0vPG0UqlGhUsXkKHrI4K7wwSEWpXagE/Ojle9mEtvAJ4wR5FsJOSRZElNeif0gqUWMk0U2NpbZM2yPnLdw88DAACER4w+ciB2/qW10AjAMkwbWBJsQx8SfCx61+YaDAaD+aPy7YsPSz3S/YntKwsu6Y3H3UtSdyXrn33bJ0N7FhYuszIMrG4P0dzCwvzlFdpQ0a4FbBiHmbUjEwDMo5c/tuejb/bjHNUHgNN25h9X9so4o1OA66/+JEGAY98YEGGpknIK87EA+5EzIilOzB4Eoq1qodQ8yj9VpEg2txq+GjRKsmL6rGm3IJKdwmaVSezFWbC6jUKbimVFDuxuOVNzIhvpg19XJneJ2v1aXaOZOdN0TDnzwinurUL1SUYyJ2fj8vh4jvFHQnGO428PWR3q+ilw56GdbDQtSsvSjhQ5D7217xFtanerFYWO/HzTTt0xg57huHiOAQAuEuGbVUmxhPNNL0N5bbPtirzJBWmwVN0ENnJPWxvp9scmJKeNTATg9FQdBC+Q3pVfPti3B+JgMBjMH5lvX3yY+pDh2evHKY6nZNMC+LKma8IdEBcn3C4n9abOBBYXJ9wu1PHO0ZTbxTbk9dTrHsHzHk2DBZ91bCLkAAAbKb6NELZaSu30uORuNjChOCj66sAJgrjI83GdoVxXRsRCTGQ/bWIUG07vC+JhYW2nLeXzHm5iD81EL8aQZt0kgG3qxz0rAgDgGO0jmQ5kRQ4ADXrHSLCBnNJOw3ZFtkNJUX9dp5PbrJTJvHAVN7Z2HwFF0S6KovqFxy/VQHp/436bfsfRpiJ33gnpT66GOi+rJTk8Dv3Q7442NaSKbAe27shoak2GjrjDEV+lcL7pxdZr6wWNXT0Y21t0TXfmgh8T6juB3tMdADCVdj/t9QIA4AQfGAzmz8y3Lz5cNDmyZmkMy7RIz8z0G5+Do7z8z/+4csxM/Uf7yqHJcFGjuZZXLN/qfo4q/5fmhLNpdypVKIcACutaMBsZ1o5HhIdCinTpuyEYn8gEr7gzSLjYnGLpHalxZIlbZ4mvrE6lpjnAC77PClGkuMXtt/6QbHCL7IzTw8P80wqVe1/8qEBIq1Mpa0ws64c1ACD59HbSKAHDeS+7+MiVdhxtOik5qWAy4VNel8tqYEOg7o42tVqVqs4l3t7mcQEA0LuGw4TPVQ4diAildak1FGNUd2etOgxs/XL2oM5CQ27y89jd8npNnxaOdDi9MZaKelsxwTU/T5y0rrh1MBgM5k/Jty8+3ELAXru+C8FSpS4bSHzRn3Euvv9rZDoTpV5detn25t6t+qauJEnqcnlmxcQzoOMxDmQAAKCF1a2fQu6g30b8k9f5HZibX/DRtmEYAADgIL13cuoyufD05lYgCBIcq9euKVKjrZ06xFxIGAGQAKiVL7RPAUCrZMr8/or3c6w9JBucqTzAUqvVHnCveBoARsgCl+ce/aBWvtCGwE8RljjXVmxsbw/AaJXlcwPRQHfA0eVy+TxzKiPEFv03KZyLaNPJg+7FdFR6Wi/VYm9X0B3Rpna/WlUo8c2dydSH+uB0UuVQQiTgSkmSSg02ZRj7W8Ytjnf+3ujncSxkmOaVY2jsdLI6tZYJTCS97ak8rVSlhDB7Py8Gg8H8afj2xQewkbT3+eYmV8yGzzeLWnpjrWRGirdsoPx4LL3TulZ9dmA6AMOuotrXbCxu4by+Ch1ciQMAXKRIJb1BP+o3dpqaAwAE5Y1sZM+WMdTZXFoHJpTLXrEuoL5m2AC9Zr4HrvnAs3QiNn4jt43GWkE5nQvkNnyttZ16KkXtv4l/8X0+tl4rHZ0y0aLohrMgheueoesYrZrqLGTTQQqG0+2ZPaWtnsV82MgBZ9Btj85H7aHFm8WHrumOy89d3YzMJdKR9nKzJPmF26NNh3JFQoHcDcnUJ8eo93TwJCYkBSlEwsxRPZV3+c79LQBwYYu50c9DBTfeB2f30a2M970887NUVKiuVwtyYO/2QBQMBoP5g/MXEB9A+bN7K+XN1JMaw3vdhGVomsVFc8VZMQufgdU/ajaNqwfRCJyB2mxq18SH3y3elDoDwOqU13dUIvTq5yhZz+Rf/mA828hFiHZ+rdIjA7nd3ER2qWGnvFOVlZNTAMKzEInGo+JFDhOr31jL7PQcT7SYE/1UaBctL9crz1Ougy+cZtSQCs2B6zxGwtYUbeTi77G1gxXTOZad4aYhhez7D+cf1LW/pdTAxod7xXyMo0191+UV6U8kA631SkZzbok2PU+mfg/X0UAzHBc3rXK8kci81HBntye/XuPQkPtGm04wbK2vSSbBJ9OLbgAIryalJ68LmbLnYOWBy+tiMBjMF+SvID4AgBZW9t7Hh7o+QI4rusKx9Jf/5XYvFt8vXj04zvOx8WH7fpGSF1DBjYN/JlxuNwlQ/IUuPM/UU/9VByDmo7tXysaCM1CVAemLrMajEWFCUaB+o7BeUUyYjxb30n4KAEjvSrGIllJHr1N5+mD7i+XHHMqlqgb86up4nwdSmi3TJazeZy8o5Q9/5LO5g6vRppPQ4dVEU93RgGBvEkZ6raKQoWKUvbsnS9dNYK+GjrDR/Q+RK0afT4o2tQ15PZVXTucCWxeZRtyL27njH9brqWVnu3jle4DBYDB/Gv4i4gMAACg35/861mp72FU1NGuTqz60wDHV1uyqcwTjD3pvWkBot9tGutqRpaOWOnAIZp6xTgYn0mYGiRExLPi4MwXFRor/jLjdE6udpXekaqWmDEaEJ/RqO7s48ZZPCxu7r8yl1+31DHfwZdwvSC6UjkeeZ9mIGwBs43CzoDjzycSMaE0CACyELIsCB4irCUAuJ2B0u8bEI9OQA2B2O53LgBqS9gozn931aNNJ3JHViPRjk5phGAEAGB6WxsnU7/NYdE13mOA1lUNSV6XtHdGmM7D6h4X8TnvgMIHc7lZ44mtLh7f2rczz183U991HyXRC/PKZejEYDOZr81cSH1+PUa+WL/RuyLBBgC7l89LMU4EtwRucsXZY3XKmIGuDUwfANR8QV3ejouAmbUOVmg2pVc+36wCEJ1I8yArUWTm3c1Ar88O6cgoEs/Asl00Er69N7GJxW3uaardaepT7fOu9ZegImEg2wZEAoFfXdo5h4dX2RTUVws0HhHEdXZIL+FxK/ce/1wGIwE//Ks6aPAAYUv5l80r8JfTqLyfr3i7k/nWRC3USbuX9/61cP3wO6U2//7/0DTNRq1WNuTWZ+iT+7H//370udMcO/i92ryvHw+isff+yfUowgdWtXOxadDDJLu79wtY289Wj12sj6peP21uEwWAwfwD+7bfffvu9x4A5w+43diR4lI15Sbt/WFEcXvD7ee66i8ge6mpPNV2hWHCWKcfqHkomJ4o3GlUAwNa7OuO/dduL3T/cORr4oukwe+fIEQL6fJzDbhf4m9/HbTRENgCQFD1t+bC6japCiUmRI8GeqJB3AwR1k93kU9FrPyw1uOL7jRuLyD0UVvdQdoQby+mMsVG/h9j71OXFYDCYPxhYfGAwZ9gWGsG1ZPAYDAaD+dJg8YHBYDAYDOZB+fffewAYDAaDwWD+WmDxgcFgMBgM5kHB4gODwWAwGMyDgsXHN4o1HE6nere7jc2yejX9+wT9xtpaoz9RmcZGBrIBAIZqo9Y6r3qGDB3NrJyL1PLa5lQDE6PpNjY3G92ZyU4eBNQqZAqyfn1wllrObDa6tzyXGxpUa4VaZ3j3hWPs8QO4qeQwAIDVrd34/DAYDObbAuf5+BYwGpk1+XIhpLyxkFWuoMTb/UUKGcgCAEdrVtsoHjGYSwVA0OxlajIb9RTFDjix88QfSF572uQP3q9wSGlWdQiFOTfY3WpqzVp9v309gZilq+0jWkjHZmQOcQzl6Aj4lZj/S0773qBOqSQpJOLn7f75MZJkfSKPqqW6gnwMT5nTo2Z8ot8NYOkdRR9dHHVxgSBHAcCwVa1IVmTBR1+XLZT7MoOujQxEsG7KMZWjI8KfjgFpGX2T4q5voHYMtX1EzH5+GAwG822Bxce3gGXqJ4gO+BkCHLOraEPYTsePnlarqiBIS4UugDMaOUAQtdRS7fI2Pvl+b/HG6myNpu6Lb3MAQLoIsB0HxnnTCXE/SNg2kH+WNdI43My3R3MeypCb+jjJKgAAIRB0u9ocEHOMqdSrCtgAF1MihKzodwOgvlS7zHZGsFE+yFFgdSo1DQCklz/OSB5H8KvvDsaFZ4dS5mk79O4gdinVUKuwXKG3ft0OjjprSztWJLcRv7FEHgaDwXybYPHxjUCwkey2SNvq5mPVFQ7QLDwL1NZr6sr+//wP2N3Ck5QaePMufd+3aiSXZSK+F7I7tRpwFAUjZIHdr1V1IZljOuuPd1wb7zbulYT8E7A6hUwTotvZu4rP2P1aZkcL5IqL7A0XGPJ66vUx9Wj37YbPrC1nFF9ud8VLAVjd0vOMhBZevS0usiRqZZYqkNjdEqfL7bGLe9cK9qBWvtB2Alu/FsM06OXvn0r87v9sCHCWmlQLJiPnqd/cQsBTaSvDmHgxte6xTgg5gQQg/ZGIZ62y/IOaLBbj3o97RBgMBvNnBouPbwtN6Tm+RIACgGB67wA8NIDdrxRki6Bb60/Vidq6/vTbrEACwLBVqqoWmLrj2FJhs+eLRMl6eeBfiVvyTqEB6b0FAizLVCtVCbl87fzzrkrH3p4rD0M97A4BwOwiAEeVD20C3MKi8BlldBxk9Ho9sxoSsrfWpjOaherxCc3eHEuCNEWHQG43K1AAlBjlpfXUGvN2b9FNsYIQZgKr4+K+dCARaT7Ppwr028n8praFRpY9EYZBUpTdVQzqUS4bpgGQ2mgPYIRq5S634rdbkkqGcsmJMbOCwFQVFYXP3TCa0oWx9gCg/PG993w5k6lkStyHW1LCYzAYzDcGFh/fFP22avmTgtl4sSSZAI7jMD4fKEdW4Ke3ac6xtOrzdT28W4wwQFDMeXCHrvV6yLZMAELv9kyCJjTlFLnKGeUU+Fdvwx6tDc4IXBwXCNOELh9TkZ8vqr5aWuP16+PzAZy2d163gQhscUYhL11WZ7FMAKg+/755cYTgE/sb4dtSg5tSoRp5v3JjOTYkbLSCKAAAIABJREFUl2ondyRhd4vFd6ELDxEdzu1CG/ndAJa8mWmihHiuE0guvluku7RvakRq/vFLZaqLhdy/9rbfh22kdxrleu1Ig4XVn8JaJfW47ROjYnHX759qwcNzhNTrw7hyr6XKXSq8PWExovwruwd+jRBIOLx9KhgMBvPtgMXHV8U21HZ3eNMGBpL2h4Lsl3Nd2N0j1RJWBdql+QUBoa7cBp5EBhdNR90jNALbAQBwbMdxwEGDoYtzkwDelYMPK9Dd/Mdym8u+3wtTYKFY0oWqSy96fpEyh0C5CEAOG9veHsovlphomjsqHFIbiywAUOLe/4ZsABg0l55W6NyvxZALSPj/2Xub0MaRte/7up+FtLE20UreWJtoJW/sTQTPjcI92Jwhgjk4dGPTIYY0hgSHNjF4xpCQJiYBpw02aWI6YCbgkMFmhhZnQGEONucQ8d6g8IC9sVbqjbyxV5WNvJE25104H/5O0vOdqd+iaUslqUqpUv3rqquuMvLFdhd4ob/nq91B7WugGba/WYltNq4+dR/YvWXOw3Sr+Y+hk+WJNhTrMn98RXk8TvsB/UGSAEjZflMxb4+UKwAOajsOVFKvasRQarmZPE3eucUK6e//sTVw1mlr1cwb2dCNbs9xeRak3fOYxFEAgq8hl0rVzEbBIVyMR4zn3va3oiW9Uixqs3bfadWhfFLcP2LNIVnBDwBPXnCDwWAwf1qw+PhV6enlzGFz6ml+y7fI/ozpidGnIWQTBDjgFqJJwSy/ks1QLB1hjcqbvb2bvo2eJ1qlvRYAABVMn9y5Gpi6cQ1OVzftoJekaELLbtfdyQ+SkUjpdI5lwEDINuSdYxR8m2Q7xfxZtSHdTIqQJAl3jpwEeeeJSvhiubcCAAD6uP7lIYTe5vr+rZ3K2t8LD5WGDW9x1a+LhdrihG1b7VapWIeldzHI7Ex/v3e4eCkaQYMqxW6UDy8srxQR7+9tKPmqjgbncEi6v2Gwjcw2cgCAdjPQ6/DB8KpP4FiKBOgaRhcAgPJHkv6QbfVQtwO86AYAsBqVvGIAgFFsmwAglxQPAfqeRotRQS8qzOrm8qzd/zAYDOaZgsXHM4IOpjeVF4VSQ0j7SVOttflQkAUALphM86N+ERTrZQfWYDS0NgC05YIcOg1Z5cS2jGifktlrd7u2YsZoQKZWqhX1a9ATazUPQ1ktpbnl/7VcTgGAIP2x5FItUTzWhNF9Zk25IKOF9KZAHc++SaehNE17gunJcQAAbMu2XcPHTfXjR0RSnBAckAVGOfG6iuYYhupLrEbXaKijd0Tdbo/f/elEEu4P6XpTdwAArB4AmHqzrwEZLugHSzt8Xa8G0gdpCe9Mi8Fg/lpg8fGsoAOxYClRrsd4jyx3hXjfZGBp2Y2syXjo2xkGB7W73O5P7+9cLqyGagAAMIxVziviposRQj5+nmNYxqkX6hZJu3pdIph+R1fPVHo1HV8ErWJMHrNbnVbDgF9ElFDC5ubCi2y+HDnf5O7viJR8yeBi5xJNag/cAWlyRZs47dXrAoChyogYONQD6DZl2QBa4oIjNgmX+PbHAwGmYpZfvSwOH6KDBz8EAQDAUta/yBDJ8/fSvcwQfggq+e1sZt0hfszN9H7BYDCYZwYWH88L0hvwESmllEVKFxh5O2VE0ps8AHgi6RioiA9Lfjdp5F+smQNXWVrd4Hi+qbtCUbKsaK6Tg4O7k/7TIHQqMjTbtnc5REN3J7O20T45jQYH7mAjQzd6AO3sl184DnjC3/gBAHVarRYAQK9tAUDbaLVcAACobQE8arqBlpIxeaWYlUM3kTMALO34+IoOfRtiH3G9d/P0u4nLSCxl/YsMknLfbd7fppH924bi3/ruYHHSFb3G8fqbCjHpFACA02u3AfgJT7rMppq8AAC9RmkPienorc8HxUlvzzl/3Rax8sBgMH8tsPh4btAs7bQtkuFFDoy6Rkl3QbXcNFS3X5bY8Nvw8CVIVRqsGKN03abE+HvOUt+8Uob8Hx3Udq67Oy8aLgLAIRwkb79SheRp0g+dWjZTutTb1w4AwBwvRUNLosihogq9q8PXVwN3qSZe3692eZz4AGBD6bC8UirUgrkgDWC3Svk6LOViT4oD2jhey6rDE09WFwDkxAv1Xk446HrGPQhWCEdmrPztKFm9O37Y1us1g+ADAEBQjlHKV8XvouzdaZKTpNFLLNRxXO6xEKgYDAbzbMDi47mBuj0gfLH3y7RZfqUiD0eBYwOQBM1JyZNAqCbrBKkP+l4aSqXJSkm6WQQggOU4ZAclaNSLF0hYDftoAADUrJ5pLi4o8QQ4XaNLcB6GZQAAKAchwivFxXmzfHjBSPFIkIL+2g3XwtZBlCMAANXzOzKE9pOB/t2U7M7FYwtEctHkUv3G9QPJBRn50pvC02wFrLga44ZWxThaKXNh+cOxwLAIIpjp0b6oz5ADdrPWcPhNnlQACC4c8dXyxZo05EJrI9MwjHZD7QKg/Iv/yVz3iMC7fx0sYvWBwWCeK1h8PBtsSzvOy01dQ56YnwZAutZ2+ZMsgNFF4CJ6LU1pqprW0PSu44Dv9rqGXGlzMZEh7laN0F4pwrmaxYuOzQihfhQuf7euaowQiXBmZa2oAPf9aT+MGCXlfpAAAMxyZTRLNCv4/QAAyKQAYN7v7wcS7xgUPFp8AFDCZlx8sZMvidHujbPHk94MajXayBr2/LhxOEWWNTKR4jQMNjjJAdQxa+XyDB8Tp4sAmJGDliarPT4uUKAAANCBiHicKJU1hjfVpm6YZttod3v3smiOFYIiz3NevMELBoN5zmDx8WwgKYajaSewFY8sswDoUtEJf5gHsAyjS9PtUqposqIoJU8PXPL6hnl7Hb8UCS8E3dAYuhvqdhyi1zxcW/t08D4t0B5RmKuqtZaoFYoGEz4N/XIrhB8BHdyKVV8Wvs6AJ/w4Z49BUFOu1EZW+zho3OG0jxv4ieLD5d88eaLDKXSUM83htwT6VtmRQijo0bqmahSrBu3hOD4ohHme4zjWpW3//ZAIJZMS9gDBYDDPHSw+nhFsMJm+9QI1FbnpOL5eDzqXStMlHMXTb5O3CQ0YmIIgvdFNABg2DHTUetsl7p9KV9upxJr17vRgcWmRkauJhEP4vjkZXHvy2+COpMPymsInn+bsAQAAXPTku+jIsUkOp7PpaflXazNmXqzOmMNp66yqg28/6Aa4Myt5o0enLrcbQpsjO/PhIGMYDOavAxYfvyqEi+XnrakRTj2/llNhR8mX2x4fZ+a38zEWhNjqjaekdbm3klGRA54YO32AbTXOqrpLjAusf/HkaL4GfhqQAQQ4PRD3D5ZZAGjk1xXfwdtZW785bbVSMQEAnGYXAK6UikMAAKDmhBmKh+A2T3+MEvQTzQKt41c79d6EExYCcOT1r+qT/gR0KHcaHYjrzoVz34qW4yBdURqEIEncXbEds16uW1wgILIUEDQ7+D64JVF0BUQKYMDuchO3DE+rYDCYvzBYfPyqUIvp08Xf+qG2Wcnkm3Tow1HMKa4lil1fiG8bHcrjpkhqMX3uTwJBUWBbCBH0BPmDLrMZ2VrYjflJAKD8kqDJ269K9S4r+hhVLWY+MukgqWlGjx+dshj+7ehyQR/4rRYLA5G5nio+AKinKg8AcIvRGDshALullQt1i5diQXbCVYRnUEPYqN02mmpNqV21wSNGGY7330bFt01LZ4iGclhXPAuiJIXczP07Jb3JfS+WGRgMBjMKFh/PDesys14wuK2TuJckIXl+zhfzxWyi6gAAEAQBAOD03S09q+ej+7Y5lpZN7NQh8O6t5AYA2yhvrBd1gl+Kf3uy7CWMj6k3h4ev1UMAl7jfX3OCanupsmE73U/g4pgBfeAKvPsx7YdxuvL6yqh7xCD08sn/G93IfjLC23//v5kJaG9QmrR+xQKlUAdOkiR2xtW28XFnu6i2e0DM8aKU/BAK+N1DYoJkF6NvF6M2aqmKLMuZ10XCsxBNH0Rv9pfDygODwWDGweLjOUD7QiGPpx8nnFqMvX0X9S3eeGWQbDD5Ppi0OobZRciyHcfpSxCSpBhuQHmQ7gVJAg8t+JJp0SMJ/aE/yUlbuzwt3Ha53PL7H/yXNaXZpsXoTVROmhd4DixSkGJByX+fpTDBsBQ1yVhBiLFdmuRdE079VhAecWkJ8Q+YUkhOikV7Cy6fIHjds3QESXuDUW8wmjQuawa96B+9L+ERl5bAMzVEGQAQrLgUImYmwWAwmGfCf/3nP//5vfOAwWAwGAzmL8T/+b0zgMFgMBgM5q8FFh8YDAaDwWB+U7D4wGAwGAwG85uCxQcGg8FgMJjfFCw+MBgMBoPB/KZg8YHB/NFBWnkvq5ijh83a8fFHrTMtgO5kDCWf/9iyHk548+Tj7b2Pxswklw8meTp2R1MuzbHDlnFZa/QLbHUM87GlwGA+E6tV+3hp/MoVzTIbmmb8gvsr2E9rHMbHve2yNuECq6VUaq2RjNmtj9nscc38WTkEwHE+MJg/Jqi290am0yebXgCroVzU+GB6MCBa53IvsVMnlvyRieHYOg2l2b3/yfgkvxsALK1yXFU5RuRgLKAISbOc+yZAidXpOLSbJi1Dq9fZwNtlDpDRsmiOHQuJi3S1rnISDGfD7rSe+Dkl3X7hdkM/u10/zhZ72rvTg8H4/aiW3ynA1o/+ZWgUNzYufUc/vBXwNnyYXwt0mU3t1Mklt/+tQBnHL9bO2hOiJQMAEPzW+WmE7f+wzJaBpiQEAKAYnhsMG2TKmYTMv/vfg8X+Q4+P693Ryyle8iG53p5+VzqwlQ66AcBuFROvq2g+EEsmI366VUmVtMERCsmG0smhdtVU610uHh1tS51aMVtAYX/QOxjwGemyLAMT3pyelceBxQfml8ZulDOyJaU3h+qyZSjlimogm6Q5MRSVvM+s05hc6p9xP9T+ZMCkXWkArFZlO1W4ugbC1cyufXV7mGBCu0dRLwkAdrteKTfuPmCEQAf8bhJM+bh+Dc5VYeNqwm3nlo5+fCuQANAqbSTM2I/vpfuTprL3WvZ++2Pa21HebJSp1YP08qTNf2/oacWvD5tTT096eujDP2/j4ZJc9P2u8WpnJ8WcfrjbxdBU5CYh7AdpAPDHVn1K4ViOClH2KU/5c2Jp5awCoXR0LHrdX4/OZb5YZ6IHEe7htD8LpGXXd+qOb+t9+rZNO4Rv60PSP6K/kbKXqNoDakEvJxIXk5suAADMx78/5aprx1bk/YE0tjmW3eu2uwMDB7BMvd1zWfz8QIntTuPqU2+OX/COb5BBepMnR3Q2XypsNNRv3od17Ur3LPTjRNqodXXVE7YAOpeVuuMPB6fvEWrW5SbwW/5OpawNlM5UuwC0oZTLg9GsOWlZmLHP1ySw+HgedJTtHbk77awrkH7/q7fVO5xuo17v8XG474btVn5to4o8YtDvtk1NaUrPTnxMKPUkbPOyWr2yfKFocEbXPeP6jlbK7J01r4GYD6Vj4s2nx9JKmarJMbfjKVJIf/fD6KWt4+1S27N6frrJkXbtzRc7vfg/TiNuADDLr1ZKVCwm3FzuDQjURk21pLtdelFDazNC2gsAbl9ElLcPV1auvsntL0+pVrSU+0kY21LRUTMvC93Q0YdVz+gFJEkNRbylg7s5fW2jmpVD/Txal6XKJ5c/xCLTRADAiT6iUCkpQuxmiyGKZqdu/mNdZlNVW9rtbxowgVZ5vaAHdnPL7JQ7/K44Ha1eB18yOmmzgj4dZXtHoVcPklO2erS0fKpkhXJvg0/sIv5o9HStrrIB+FU/aJZRyaQKqsWvHuUig90zQdHj+2HR5PCu4L7kDz/FbBugfZZIyM7Su6MYRwA4DhAEAJAkRYOG2p/QxD1H3dLB6aDq/7i+plti+m0kSN9bOY38V1ef2Oj++8jECk0L0dy5qGRLyMtAEwg+cpCTKAAAbe9/Em0AgHa9VESENFV89NubsB8krtYrl/dzMk7vugcENJRKYyjTPiw+/qL0TEPXHd+SwE6qSi769w3abalncpsJn58mp8vsvwYdObNT1B2QG8CO7qvzAI7V+JgtlhTd8YR2PwSs0naxVPd9OAi6wWpk8zrwW/G7jsVGCNkDXzaSpIiO2nT4+EGMI8E2ZbnpAMhFRdiVGF1WulzsYPn+O8aJPte22rD429tpqk6L8f4uOW4hefqDkH2TOtwuec+Dk7NLUrR7TApYFAFAuGi3e4oGGLqDN5k7lSiun9SQS/VrAPVwRR1MVM+s1Pv/Ixb2//U+OKV+OchsNpt6ivacbnonpUGGrhvcn9iJpGcaerOd2WbYk1vr/zDIaOqWYAE8VXx0tIpssqGI8Ii/2bMAXe6t71x06cDu6a40/EF1rjJ//3LiRfMD/ycpmqQArMtire1a2N1cZGm7dbyWagbff4j2P4EzHbVso5zI6kJsK8y1C6mCzqx+2A3SAGAZWt/lyblqdGGOA+Pysu9tRdKczzu67ZT09gAALp9Y/D6GXKpfe1ZjQZoL/vDP9H3etL0vE3ro5Ilfr0lg8fF8IDxSMi39EQ0KqNtxCM73V1ceAEBSNzKQoJ6qBwmCoQmPtLsbDbIUAPAnRGo9k8gSaU81JaOFb47uOx2z+uZl8dPg1Uz42x+Tpz+A1Wkox9VyVe16Qvsxl5xd+aoiSpH4UVhgB5KTvJ9zSk3zpqdCWq3JBDYHduijhfTJB9F0cySqTcnwhJlvx+wBOF2j0Rjp5gma9bK3vaJReZOt31qtbRu4yG7UypY+AfDx8/1A30BilNa+1oNHR+FbGwpJTdiheRjn01kqw393MMU48AzoNQupLHea/iWnZ7pq+exyUfjriA+a5VmB3d2NeikA8+ObbdWfPOgbnQhx/1+5EYVrdyobfy+MqQm7VSrWHd9WUqIBgPSGIpycSWW584fdlEiaF2illHhZdoFDB3LvN2/sxHpl++sLxzXnIgDm5qBVzrYAwHF6vZ5n6x/fTbaCAICjlxPrCgEAYJk9ePgP2fmYL38iFnajNwrD6nRQfzfSrqb3XCxLmKZ5k5YgKNr9YNubABYfvyq2qdUbU5cjkLQ/sDjRVPHrY6EOsoBm3NSs59uo07WAYmbXLdtCyLLJiTXQtizHQcgBcHrIsggAAIIafqiNOl3LIaZkxrYs5+4KC3Ucwk1TQwenpp55wrYQQhZQNE0/kNy2EHJco6WbVeqp0NLBB1CaNh94jH3faVb29moAPQMBAEnSHAd6NV/vdDtdR9g9PTj4tLLx9QYQ/OqHQbsFsKH3/wgMVrueLpdT69mW/unaIRg+EDs6CgtuEoL+YK1cKh/vnF07xBzDR/ZvnEYoXoqFKRpuVrHQ/lhcGhnqUF7BCwDTvEptrbixo05yu6tnNuqjx3zf/HSyfKMJXKwg+pAF4Bj1qm4tSC41k9UduDGa3OghkgSCZh5lQ7nBIwYIrZ7Z5qcZB6Yxq7FMrXCTatyEmnx/soOQAxTtnjp39DB8IIDq8nbGd5oLPkUq2BZCyCbHnm1bluNYlgOOZQ223pmFhseeuGn3Uz4vtm05d1fYqIMI97gpbTSzY9+WsUSo0xtryqOwy7lc/39mJVu4QoLEUgBdAADLaDZG7cioPf6FtxqFjIx8WzmJRh0T9SwLuQQ/c3WxlxG+yz009UX7o7nzwGUpkz1rWsjsWML9H8YTHrU62LXUFzudu58dJVtCC9HQInv/uijaw/Z7GoT0oVHJJDpKttjsgYu+fapRTqycDfi6tjMvB+yPRODWV/ZpYPHxq9LTy5kZbnf8lm+R/W3HE3bnslosVeqfrvu/XfNidDMdHZ2uQ43KcbFc16/7nYfLsxCKJ2OjSskylOJxuXbV7g9TCcYnxZJxcSCFWV2/HYK3M19+0U+2sPvTe4kCAKv1MV88qzdvXbtdngUplowHBx9jlNZWFP7ohygqZktKs+ss7P7rvU9JvCwx+z8dLA5nCH1MfHVoiO8mnijRuR8PBNI2L6ulqqw1u7eDa9e8GE2mo/6Bd9AovNhoSOenYitfKNX1axhoXw+Xeha0V4p6H04GJMP5OKPXbvcA7BsDAtK1tuX28KJ/ye1hyctS4bILjPhNbn95xKp0O+dhdYx+MRmWsHS3EJL8As/RJECvbfSFBRuMvQ2uWlYPmYhe9JLQ97dXEQCUmkYXnF61RDAAx3sqF4wyavGKj8WlBz1WSGHr9NvV4c+yoxY2zlBgdz884vNBUuz923cLkagAYGl7K2dzgV2pXdwxPKEQJctGdfuNSgAAOKiNAMmZ9Yar3xWwoYPk4uw8Ub7YvmitZB5tHHhEYzFKaytV7uh/D4TRixuFFxva4rc/pr0DScdqsgRGrVyq1jX9thEQc3wglk7O8uadBuESkmm+u1bI7JTZWwP/7BKatWKxpKi3dXmOD8S2NpdvVje0iiuvq31PsvrXX/YFo2vp6N9pyL9IGZHz70acfe1G9uWG7Ip/P+HEVwkj+n3fewcsQykdl5XbFnTbhIbqFFISXxao/Z+2iHK2KF+1e/Pjtx0sh7KTyDbo8NHR5nRvso7yZiVz1SPmVz9MmX0bwmpkU8WmK/Au3RcLFOEiDHk7JY8ndbk4YkCS2Fp+W2470D58+cXh3VHCNcfM9dR8/lIYry5jkO7FzROvP5/aLuwU+e/T9/m1bXuoWfWcwZ8dXW+psnxR8gS2dtPLXgqGjOLaXk2dsWQGwDYqO/mrcXfZuaWj75L8qL3WLK+/rj5Ylslg8fFXwjYqifWCwQSi+0mBZ4heV69Vy6XEq8buyfv7dZwdJbWW0SgxnD4K8h6X09U1uVz+eq0ZPxn4oqHLvbWdC8SI4d1kkGcIBxmaXM6vrTfE+2bNhnLfiz2jnNq5YLbO0wIBAEDRFAB0aqmNHdWaD8T2dwWOJqyursrl6s5KQz86SQ51DU5X2V5T23wovi9wLEcBHQzxxfyFai0GB9N1ahdNB0CbdEJ3LR75SLAbhcTXNVcgFH8nelnaBcjQ5FKpmHhjnX43PKBwjHJC1ix/aGvfz3L8E0r9S0Avpk8Wb/5vHr94KQPQi+n3iwBgmVqtWsjKes8T+ObbdBDlV170oie5ccd5S82uZJouhrkZrCHN1LWRb6djdbvXrtC3/0zfebNZyNCbbQcAbMsBQGazv2yX6PEoAKiWWanJofT+VtA9q8yUm/OOKGur7QKwGM7rfXDCGNUye3UifJSW2IYemA/HqaIiEzTLsjfupUj/ZNEe7mZ4R3CPmUoh3NLBgb6WkLcz/GlumvNpn0c2lqcxWpOtWmo902IDkXTMxzM0OF1Dq5ZKh+tdOD9Z/oxxCcFFcrvNVzvFRxj4rUZ+PVFF3FLs3a7A0YDaer1SKmysNff7S5y56IfvQ71Gce1Q831zmvT3Wy8DJBlapF8rihEdajF2U77sAsCEE8plj4/1jTFIy66n5O5ICypn1jRtf3hlNThIzWyoLSYQ242zHMdMK4dRSb0pGGz8KBed6cfe1vQeADifZLm56Z3d/1ut40RKbjue1ehNnrjod/+OzrzmDpIPRpZIi51nGZpm3AxN39pXkZJaV9qmPf3h2vb/JOojfb/8+r9lIOZXYyxA++z1f5+NX3bnc+IOpr8Tw5fFbFYunomLuSk+WVOwG4VUQQffkti9aAyfciwLjZk5e86MJcUPgMXHXwe7VdwuGNzW6VHk1rTgZjl/QDxe28hmKr6bYYlZ2clq9OqHk7shhNvN+UWRT6wVt0vCjckPKXuZC4vfOj26cwZnWc4vih9Ta4dXALfLJCg3SwGwLiAohmPZu8x0PmYyqi3unt93ASzrFQLB8sZacTvr++FgYBjba6oofHQ+oEhoMSTkM4qKggM9riHLBrMU8qjKyAmzrhh0MO0nAcAfO/o+zt5bJN1u1uune1/tyOXL2JDBpHul0lun54PO7o8t9a8DMmpKRVHUq3aPYBZCu99GJS8NYCmo3e5NdJwHAAAu9uF06mwwAFym/u/XraEj7PL7H/pKxCy/elli0z8OWlVPhaVKZqe4s2ZTNytzJ2Db1oTPkmU7AOBYljXJtZMgKPLGym6UU9kGu3Wa9FMAi+kDALsGAGwglryZnGll1TqI0eRTV9pSwtbBlrFWyO6UuRnGgUc2lqcyVpODW6ccNVgdWc7Pu9ZfHp5VW8vJx5jIxqCD+zl9ZaO6vc2fv58uYCwtv11Fwu69CHO7Wa8gCnsriUxW9OaCNEm7WRoQ7QKXmx1sveANBTxyXWltDmTRUmWttxBa6o6d0GS150sGaQBAtey2jCa0IF9q7TCzJ3jfD0povW4svfvu7SwfHdTIv0lVEb91MrwsZRK+aDzQrTaMdq9n2QDTU3cu9xI7FwMxPdBlPn8xFntjGMITSm7eWMUoIfr2Vl80sl+ttAIn/aENLeV+kADAnro00RNKfuOzAQDa9VK1SS9thXiiXS9Wu17BY8vgCX84jQ2PktTtLzNDsoBkF5Mn/pAJN/ZEp3m88qJMAIBjdXswQ/mTLM/NW0sHEX19RHxc13dejs2W9gv+ma6nWHw8HxxDzuw1XKOHST6SXuYAbK2qtD2hg8jI3AnpjSWl+ka1akSSHEBLruquwIfYyBCCZCPpqPKyXNFibwUSTKVy1ZuPp0fbO8kup2MXfy/oD+S1VT1rwsJuenTwSXLRdFhZqVZraHH5/pPjEmPxYTM5JSwJxI5yiaS7ZC2l3vWEcnGPU9uRLzvS3XfXkOW2J3Rw00TowY/ozc3EgJ9QzXYXYPAcE9oaLt/PLfXj6TuU3P66mSByEZZugD+6vyuJE5b3T8OUd95oY9XiDgcZEz+qHWU7iwQOANBVfq8rvb1b20h5I7lzTtEo37Q8dMprfy9OnVqubnwx0VJLiO/+N7cIViO/nqp+cuZFvbynA1B8KLbsJQAA0CdN02gAANvsWNAzGpp28xV3eUa9/adBPsI48MjG8nTGarJ7vDq6hQAHh4aBwPsYc85WlQ1tAAAgAElEQVQ4pDeZ2zLWDgupPHeanDy/gNRKvcdvbY22QEpIbonq19VaJzhLX3GSNF+tXDTi3tuoF0hVNBD349F2q16RB05YqqyBsC9SAGAqZXVaC4pfvDwsVwxpwGhCLMQ2ZymPvkiwhN2TfekRznMkt3xwymb/ttHwzEiNatsbO/UuI24FrMLZTafuOJY9Qd732k29S8z7eJoAcCbrf8e2er3H2wfcfmm5v6La6FaruluMLC+aZdlhxBBPVgCAoChqqNLaBDnJe50aqFm0NyDxFACAWStdzHo8Le2fBkiyPfYtmwt9+8/0mBrulF/9vfSIUk0Ci49nRA+hLjE2pCTYfptoN/Ue4aFtwxgLhU0wDHSNFgKO7uh6F1iWaI+nsl20q6c32iBwlt5ow3xMZCfkwi0G+Ie64Y6ud4FfnbgwnBMF5kxutuzlezMEJ4x9QSlBEl2pi1pnuf+NtBtyDXGxAEvRoaArIdfN5f6g2G7IKuLCgaG82lanbXat20+CYyAHeiNLMwjeN9y//NxSPwEt89XXw86aLt7WqlWj54Bc1OTiwBnbQgBQWvuqSgIw4aNRb0qaD0VmeLjZjVLzU2fssNWsqW1W8AMARTjN0rESHByUUn5pzJ57GxYVgBJju/Sg6djW5aKsO/NL8cgMXwuGAwCgaIZmfDRNQQ91Tb3Z7YnxmxmhtpJNKTeJHQegXkjdOL4R/NYT5ikeNA48rrE88mmDTKjJAGAjs91Bd9XRatswtS97HOzywa6+9nU1lfFNXt1jNHSHFkhkGGPT+6SHAa2p25FZYo4NSFyprDS3/H3jV+dSbrrEI4FiuRBfKsqa7e+3X1RTmi4xJ1AAYBkzWpAQ4KCgD71Yj5+f9pJt21R21g/V67mlo0cpj/5VZqWk9OZjo87Tg9As45pfepd7K+ip4o0/NR1Mv580f2Ecv1g5YyK598OrDO1Gead68zWwUasHPTX7pns7XvCEdjd9j8vvzVMUpc2FcxzZBoC2/Oar+ojvO3JgLHDOIIRHjEZvfD7M8sVMnw8gyckvE7VbxtipzgPmoFlg8fF8IHyxo/fTl9palg3OVTGhT1DJjkO4eMcCoHvIAmiXEuvlSakcF+PYAGDZPQco1+RnUZQLpoTmvKWHLCBYevJwnGZocKyec28XJSjXeFJSCC3SG0rdjERZALtv2l10A4A/FGTk24lnu6lcIn7z3vkfacd72epVF1xz98tcbDQe/8A16jj/c0v9BPzxo2+I7cOG95u3YZboypmMBqTbJwVc4/MVjlGvXtncYoB3ATBP9lOc/KWxtFqT4EMcNAAIXzisr5SOG4G3g8EdLWSahmFoOoKetve3/3t97dyOjih2cdArwm7ly0bP5fsm93a4p7csa2QUBwDARt5/F+mfr6W+bFI+7jaIk2/rx5O7aZevXrdCYz6Pjy71bOPA4xrL0x87VpPtTq2wk1f0a2Ju7nbSCWzU/flTePRiOrdqrJ1lUjz7YWx1j231HOjWswltSgndjjNrYgLAHQz5inlFs4RFCsCsywYd3PKTAO6g5CvcOWR1ahc6vRjvKxTLeqgFod7gi52WFKxmKZE5M+h5pvepni9Kp8mH/YctQylm87Lp++Y0zM5KyG2engJJgn03mDAvy6o+aaoQNRGAo5aOTQKAYgRp+cZt3YI7r9BbDXl74Km+YTZCwIZWJTdAGwDm/NGtpSH3F+eqtDPuBGtdbq+c0btH8Sc+bhrXajbRGKssjtODWdM4s8Di4y8DRVPgEnI/TZ2mBwAAF00BsbD74/vgrMZMUTQBZndCjw0ACKGHWpiLpsBBCMGkJeeojcDFuIbr+aT7eUMBRumLDEu90EDcFW9cw0LSvCwrrc2k19IU1RHS4m0+Ox+3U2ddcf/774fW1Gjb/5N40G7xc0t9k9BsmA7bX3Iy/VGsn6NJoDxewc+B2e8huGCUC5rKdkZhtnL3Tv2WYlSveuLq5hQzebcpl7szooogE8Y2ekE1uUn4d/1EtwQAwEhhXylTlKU4ZWi6bhiGYbavB6QWwy4GojzH8ez4/S0tu1Ntu8T9odXAYLeO1zaqEBr1Lh5MoqsNxxPy/zoLwu6NA/x3uyMv4HGN5RbHHvcgsC1rshQdSmeUEjsKEcr9Y0sYMDNYypsvMj9fyJLcZi5trGQKqQJ3Ghs5R7kI8IROf/i82SMAAFqUhHz2QrMWg5ShKG1P6KBvlafEkJjf6ftdmXXFYAK35vqHWxBNP0bSOc3q2dzC1kku4jGO1zbOtjP8w+tXu5piMNGj/ejDAUtGB/ioWVO0SUN8B/UAnJaqmgQAMLTYFx+kfzN3F4xW2/ufRFNMvx9600+wapG0sJm7d1ClPP7FxeGlts4FIY/aLi1VVrsoRFAkADjN/Iu/Hfdz3Jvp8zGdudAHPO2C+Tw8Aj93ptWatjDrg+r2+zyOrGgoOKstU7yPA1WtGZvcWEU21dqnh8Ztbr/PA9UL9XbOZAC7daF1CT728Eo4AE6SPFVZacWihqwRN6ZdAAA2EOJKJbkRZ5GsgbB7d8Jqqk2H3xpezQsw0TtyjJ9bagCwLrdffV2/BtfC7g/vx1enDNKzLKDGjUMMx4FRTKSY06PlxxmbufD+ydMcTm2jXG0S/n2Bgv6IiqTEiODKGoZqFOUu7eE4QZJ4zsNyHAfy2orMRdObkx34O8r23gWaDx/tjlQo0hvdlNRENbXNnb+fuPAEqRVt2ESul9ZfyX2d4HS74FRSr2p3soFkI/sHs1ewjHBrHMimuOhw5h7XWODGTNcZ9RYCAKOpP1ylTE1rE779uDA8weHYn2/LHuZudc+2Rxo+wwt+14WmGPD56oMSl4TsjqIikZHr3YGZTUoIia6EfNmRvLLS9ki37lZA8QscMasFzQf5R1nu5sRbNw9vX2BlUg8uLuaiJ6dPK+Ad/uR3PwAgrVxqcLHNgdni/rTL5vkMi/MUKJrxwOyYJJNBWmkPDX0WnK7hwMiHoqPITWc+FvICdALxOHdXoSzLolieAvAEovGed7ov2PiDjUZjrF4iE0+7YB6E9EejfL2QzQgfDoYjEKGG0qADN/0xF4kuyJn83kcuN9y5WYai2uLNnixuaTVQ/rq6lxdPkoOuqbZRzpQfDGJz+5RSpuI/GvI9sxqFjNJlpN3Ao2zaNyJDods6HYwP9BPuxZCvkJcVDjUHRQkAQRLQ7Y6MKk1Zbjjw8Ofj55YaALXNawCAXlvvwEzxgVC3R9DMWBKSix4dmCuJw1SBfVwkS6OcWqtP/8rZyHSGLR+2Vlbac2JSpODOJ58UkqentNtlh5Ijw8Ixp4jBQmjZRPaKDOy/n2TdoIR0bstcK2RTx5OinhuV0lVvLnDjsE+yYjjMDH7p/KNqh2GeHBrj1jhQLALAgC37kY0FgPYL81CUq43Q4N/CNitFpTt0x4kQLhKcHrJgsPLZrXK1+YutnLpd3VM4g6EY4JS4Knley9tZ4SQ97HvVuVQMTlq8KzXloqCHRjIJAABkX2QoCnOJfAMzm0D6Q0F6Q5Y/flK7Q+5W7mAsUEpMbkGlT3Piu9B92hkQ3qV7Nw+3dHCgrySKqQJ3nv5VNzm2zUa11OjlRt/YY7A6ZqttGIau6112NRcV0j+Mbr70MIxfWoJxrz7Gt7Q0sGIKAFpVWQd+K8ACgNtLNTLHED99v0xpeyt73dWTTQqAWow+cuFwn2utuN0an3bpXeNplz8mhIvl56cugiQ9nxOU9vNhI/u7+kZmZ+VFXQoFBI4hHNRt1CtyvU2HPeLNzDctvT3Q36QOV16qUji4wDE0WG1dVSr1Jhk4Er395k0tpg/CZqK6sWJI4ZDI0YSDDFWuKgYdXl2onj1kNKaltwf6eqqwtqKFwpLA3sT5qFzoji9+sjW6ceQ03IshXyFzWARPfHfIJEiLISH/9WEBmPC3A6KEEkKBuYS8vc0koyJHkzYymnLpWLNoAh5j+/iZpQZW2gw3jhuON7o6exmlbTQM8EQn2jYoIb0f1lO6Ztr+2QYiSkh++wE5YJnqRb3LSCGRuft8IK0qG7QQFHmGIAiGvb+K9EtBkQ+PjPlpNw3jBunpWMbH7Hah3ob5ANOtHOednmPZ1oR/wfl0tlMQzoeUlN063qu255g5dS9VPjiI+mlO2kw+9tlP4dY4MOKF97jGAsCGNkNKQk6soXA44GcpG3Wa9arSoIUFZtYG6P1nL4YWiplSao9KRn0sRdqopVZKZYN4SLU8hdvVPer18GFvPPeNuX6YeNEKhEKin2UIp2tq9aqiInaLX7xzE/GIfuZMLmYq1CrvQoaKuNjyTelJfyhIvy4e6i7xnTjUH3tDIU+1ePiJWNgdEm+UkMytthNnwy1IqSpXyBM+2n0gTNwUKGErt2WsFba3+SlGtF8EevHtUbq3lkmlmNOHQrhZHcNsm4ah67qu9eC6uvH3KgAQcx6O4/jP/eyzUjLpqWxnVXd0Nx10g20o2WOVjmxtDk0lWZdVpU34+m/euswfXwG3K7gBwBcK0BuFVPaR45ZB5qQjPO3yZ4JaTJ8u/t6ZGMAdPDhnhVKpUivuVB0AAGJuXpD238YGNzekhfTp+UKpdFYvZuTbVL7FrW/jywOjFcqfPD33VUtncnGnn8rlWZB2T+Oimak+wvWSFtLn/acUbvLiYnhx6yj2pE0kaFESXFcqGxpezdI3/c6pF1RA8g4fTp++o7LFUmql4PRLJkYOPvD1tQ3tMc/7+aVOvn84uiGAoTV7c8IkFwoAANKbPP/RBsexbcdBU5wLAKxOxzS0+kVd1RHtk0QP579bvIlaXYZq1koZxcULwaVQiHXfuX5SQnr/MZmcidOqq20HAD7Vzz4BAEG4XC6KolwERVEul5th+v8j6J5eluVMMXAnP2xT2UmdtT2rpychM5/IbHwl+8SAKPo5lmFcFEndRJN0HAds23b6KqbXc2hO+Iw1KLfGgZEISo9rLEAJ6ZMPnnyxWj1UzwBuK0TMraw9KD6AlnInUMiX8xsvewAABMMHVnPv6epXX08NBPEZ3K7uGT5Kssvvv+M+lkpVuVA/u22CQvRdPLw40ARJ71buG7RdLCRUAHDNL6VDy3fR47xSwFM9s8TQqMmBDUh8sWAKkjjyB6G8mx/O/XKpXC3tyP1Cz/FC+F18LIDyEyC5SG5Xf7WTTR1zp5u/3iZSbmn3wNiuEvYsb1z7cvvLr/txwggX4+G8S2Ge5zmO4zh2cLiJWrVGFwAc3UBAEOP3GxkOoZZSKhzLes8TCParOcl4ONIoJlbUpWQufWsM6ihnam8uEAnQAObH7Wy95/sm2ddkpHfzIN5cKWTy4v0qc9ueOvCyLaOpmVbXsMAxVaU25juG9B5A90qpOTQrCE/zdv+v//znP09Jj3kuPGonBADbQg7Q4ysSxm/28L1+ves/85k9ICbt6/KEO/xKuba07ReJxuKHH/uB0czjFy9l/ujfbwcVga3tfZW4uBnNzi0dDQX8QpfZVFbRrx1weRbEUCgiLU7+MFimVpPlqqK2nTk+kNx9G2QHT/eDjM3cusE4frEic0f/HosYjQzNsGiGoWlqbOHQMP2w1/Tq+Q+bHACqpV7sqJS4+6Ef/sruaPJZRblsfrp+IMqTuP9Tbqaj9OfyuMZiW6gHrs+sUY9sj78WtoWc8fVdI0l+8er+Oxf6Aexa6osdM3w+voGr3SqnCmoPwDL1NgSOfjoYMhOihnLZpTl+RGyMYilvvsxc9UXffDh353ht1bZX8g3b6V33HCb87Y9JL1iN48R2Vb8m5sXo5lZ4yEfINpVMKlvvMqHcaVqgANVSrzKmdPrDJqNlVxIyBN4NR441P+5VyUg8gEprWbUHYKPuNREY3pPCOH6xIvNHP0UaK2tn7UcYhQnP6ukTd7rF4gOD+eNhd7R62yPd2IDQ5fHxFRtNDwf1tk2triMAwsVwfj870ukiraIgVhSF0RNTnteoaxYvjQ4+kVY+VulIekZchMmZeyKGUm7RoiT0H29eKl2vNDavbludbhchq+c4YNu3M0AEQQBBECRJuRh29tZjGMxTMD5mK92FzQlxzuxWJVvVgaAolg9I0mcGgwOr07GAJKm7Hdz6IK1S1rpAMJwgBvxuEgBsU6lqtBgSJluHLENRTD5064pkI+TQNAV251LRWSk45aJGJa8YJEkx8z4xuDj0oUCXx8dNNpr8Wa36AbD4wGAwGAwG85vyf37vDGAwGAwGg/lrgcUHBoPBYDCY3xQsPjAYDAaDwfymYPGBwWAwGAzmNwWLj2eFbdbKHzVzJAaeZTYMNPmCoYtbH7PHSmvC9knQqeX38jXj52yzicFgMBjMDTjI2DPCbhW3M9WexAcF9v6gUU6sFw06fPTAzo8duVCQOwIf5Kl7pUJQjJuGxlmxeuEKB7ucOXgFRbM0XtqIwWAwmKeCl9o+F2xTSa1ndHf8ZCDyr9UqJxJFg17aP3m7SAOAbdZknQmOL0zvfFxfOWyOh8pc2P1HzEi8rk6K1biw+6/JGypZWjmrQCgdfWoIXwwGg8H8FcCWj2eB1aqkUgWdCuWO7pSH3allE5kLi48f5foqAGn51HZVp0SC218eDEGMtL1EoUmIu9/vijTSitkqhPfj/WvUzHq1O7/64STGE45RTaUUJn2SFlwAQE7b6MPpaPU6+JJR/+TzGAwGg/lLg30+/vzYreP1jYLhXj06TQsUMoyOjVqV7bWVnQvkCW2GOatxWat9zK+/SlQRv/XteW5IeYBRTqUu2vTS212JpSiK9fOEeVk3gKIoMBS5RYq7uU0/RZIk5Q1FBUc9q3VJcqrywGAwGAxmNtjy8eeHdPN+6Rtpa5kjofNxe+2wK+2GDPVTDwA+ydkdBRzHAQBmYevbtxKFkA1Dmyl4BFEwQltpWl77W6UDAOAAENkXf8sCAIDjmPm1v+VvUzsOUEYXgP0NS4jBYDCYZwUWH88AejGZBgCAjpItNglxPyYJNh8gadrlGHI2U1QtPrSZjkscXG6/+Lrh3T/NDexzTXLR3AEAGAhd97it06QwunXhPY5eXM9oPduesanjbGzU6VoOQTHu6XsuWaiDpqexrU4XOTD7FhgMBoP544LFx7PBNso72StC3E8HaQBgnUYlky/Vu2wofR6XbvY0XUwfhNYSmdQxc7rpndBzO221UjZmPAWZj9jhcCKWoZSOy8pV+8arlWB8Uix5l7N+mtbHfKFU12+3LyVcHl4MxTYjfhoAAGnl7HG5b9MBACDm5n2LkVhc8mLHVgwGg/kTgcXH88A2P6beFHWHCISCtG18zGRLqn7tAMHwLlPJJiq21etZttXr9RwHAM52sv7zt8J4n+1ieJ6f8aB2W73qPj1/SMuup+QuI4Z3k0GeIRxkaHK5nFnTtP27/Z7NSmKj0OHD6Q8Sz7igh7qmrsqy1rUj0HdtSZ05vvh+UuAZl9Prdg29Jtc0BNLTM4TBYDCY3w8sPp4BtvkxtX54dQ0ABAAA6XIQojw8S9MUZXe0q0/gC8cjHEW4KIpy0ZSj5VPFvaz4w8HimPwgpy9iAbh9whNBtey2jPit06PIrasry3J+UfSl1g4ze4L3vUQDmKqig7ifSwZvMuVmOa8QjNzcRL9Q2q6lo1xUIO9O+wUp+hn5wWAwGMzvChYff36MUurwqseHv+G0wxoAALgjJz/2+2xL235Rdy3s7iYl98Al3G7cLPaoCTMoPVNvzApkitDTp11Mpaz25uPpCDesakh2OR2/eHlYrhjSJgcADoDlzLq/49jOZ3ubYDAYDOYPAhYff364SDxO06EIVX5xe8hqlDNlK7zJlvfq10DopY2vSgNXuLjYQe6AnXAvwhOIxYQZD9OLT552sYxGG+Zj4qTnuYUABwW9hYCjWTHElwrZtXU9JIk+nuPYIX9SfinoUao7a1YoJAl+nufc2NEDg8Fg/pxg8fEMoBejEQAw749QLANGMbEGjmshvCUwdycco1660EHwMGN3AaBpF6EXV1YKvZ4DhMs1NMPi3B10uVxPyp5l9RygXJOlAkW5AFDPAqCBjRyd0uVStV7OyEXo+5MKUiQWEtwkAOlNnn7wFM/kWnGn6gCAi5n3C6FwbNk/Gq4Vg8FgMH9osPh4lljIAgDHAU8wFo9476OtH68XHWYpHZ+00oWLnv47CgCW8uaLDIqdfhdl70+axy9entFbP5wsP7mnpyiaALOLACZcihACoOmbMxQX3MwFNwGsjmEYLa1+oRQSqrZ7/l5yAwDlXU7nltNgW522obfUuqwcbmj60UTXWQwGg8H8UcHi4xliVhJrBd21EFrq1aqJBH2Ui3opsFrlVOKs7Vn9kB7pqpHZMgdcOSwD9X0/GgNb4Xa7DoDVbjUat9cSBMN6HzP1QfELHKGqNWOT48ayqtY+wXyQH70N5eb8bs6/uCwxr16eKRqSBkUPeXM6KInZlxuK3EgLi9gRBIPBYP40YPHxDGFD6TSBhGWBtpbYVKL4+oUWClKarFrc6tHRWHwPpGVfZ5qjN7nIbFyM3bn69Ub17sdc6MM/04/ZvcUdjAVKiepeXjxJDkbksI1ypvRpTnwXYgEA7I7RpTh2RIdQAARBEgCWaVgM5x4XGcTnLMDBYDAYzO8HFh/PEZKTlgEAgPKG4jEtUWjKVQAXvxqPTNhnlpaO/j/xdpGJoxfXU7Il7n+XHgp0apbWXlepre+PpFsLBEEQj7U2UEIyt9pOnG2sGFI4JHI04SBDVarKFfKEj3b76307Smbt0PCIQUlc4Dw0BQ5qa3K5+mlOjIkUGMeplarFi8GAKHCMiwAHGap8JiNPOCxgswcGg8H8mcDi43liI6OpaYpcUfVrmPMtxQVQKxdnG1/K86IUWgr4/d4BEwNJUiQJgFof85lCvcss5ZJBelilUAQAEARFUZ/lXUF5Nz+c++VSuVrakXsAAMQcL4TfxWOL7G3YjuWDD2T5TNZKWbnXl0IEw4uxo3hUoACo2NERfSbX1dJO9SbCqYvxiVtHm5FJDiwYDAaD+ePyX//5z39+7zxgfhnM4xcvZe7dj6Hmeqr6qQdAzM0LUmQ1InlpAAC701CqVbmmfbp2AAhPKHd66/1htyo72bL26ZqYD8TT6eXxcOV9h9NvfvoMh9NRbMtygKCo6ZLBtq1eD1z0lCS2ZfWc6acxGAwG8wcHWz6eDwTnFwWPm/K7IxINgiD4uKFAGaTbv5z0LyetTquhqW06dO93SnqFgNBd2AwFhVGfixsovxTqubinLbKdDDlLd/RT9C0xn38DDAaDwfyRwZYPDAaDwWAwvyn/5/fOAAaDwWAwmL8WWHxgMBgMBoP5TcHiA4PBYDAYzG8KFh8YDAaDwWB+U7D4wGAwGAwG85uCxQcGg3kCqFE5Vkx7ylmr02q1TGv65Z3L42xZ60w4Y7cqe9nK4IZCs7HN2nG2fHn3MNua8dghDGVv76MxKQdKvnxpzrz0415WMQEsrbx3fDk5r1ajks1+bE17RX9IrEYlm6+M/V0MJTvlrzWAbSgVpXX3LqxGZezVGEr+uGY89o1YZkO7pzGrOmH+vGDxgcFgnoCl16vZ7eqEvhsAwCilXm+UGlMv1krZM7nW6JoDdDqWDdBRisWLWtNE5hAdNKnLsk1lb2VlRzHR7dY+ZiXx1Vev9qbLIkDGXZdWU+v12l3nZtx2lG21XJWbk7o6q3H8JlUxbbtzVb9sIADLVOuqjsA2yqnUsTbU1VpGXZbr7d60jPwRMetlWdbQSPwcU6vIsmo+cKmczRYHXpvTVetae+gtdlpyVVZny8rOx9Sr9T3FBIBGKTHAxrb8QA4wf0pwkDHMz6BzmS/WmehBZGy7WswTsQ2lWDF9sc1F9++dldmw4a2Q/Lp0rEjvpSdGu7UaxezFNcD12cbLs4HjTPjbD9xZsekAqIcr6tA1TPjbH5PewZsYtVI+Lxt0YOvbTYklnB5CyLZAiCfb2XxmRdfSB7sSNxaGztLyiaxJe2iX0+v2HKjnjzXC6XXbyP/uf3OLAGAZRtfF+ybVZYrz00YqUWBiQ4ftVilbalBb8aeH/W1VtqvdQDK5+LMjBv8SmM3WNeELisOZ6WjqJ5iPCzNqpG2UM0XDEz4Ns0g7zhvibvQ2td2oZDQmublIQ1s3gV3yzAoNaNZl9RNaohkA8MdPz6P9w0jZS1TlaiucxpsoPDew+HgedJTtHbk7cpAgXBTD+gQpGOR+nU9cT9fqKhsALD5+Ns1KvnrRa3ChxchvrD46WuVM7c4vxSZE1R/Etq3+9oNsKB6nCZ6wLAv6GwzOikd7d7lZSaVkNB/+8D7GgalkC5ovfSAxAOAYpTcJlRB3v98PMIDUbCLfDb3PhTwEAAzdGylvvspcOQAA1xeHry8OB59AEC5izmWpmfU14+B9Uhio87aFkAXASLnTTQ60vS9Tztb5wSJpX25/uWP1kGXTFOiaDlx8cidHCen90MpGoUw74Ls5ZjULO4Yj5XLL7MPFH30b3aZa73AxgN9VfNidVrPdA0utfQKPl9A1DQAImuM5mgSzrugwtwBGrTZo5yJoftHfr6OolkkVTW7rdJMjoWM21Qbn3IkPp6upmj+2CbTR0HuMwM3SMI2q/Ak8qxGBBADKzd3VxFhUVHaUorJ6svwHV+WYJ4LFx/OgZxq67iyEA9zAVrROD3UNtXhRLZaW9k/e/jHGWH9xrMbHsk5J0SA7ckLYzO3yiAv+1l9Yq1ZIFVQH4NJi//nWPzWdXdv5Ykd17g8Uizf/IQLv/vdg8YHHoMvMeqEJvq2DpJ8GAI6nrZKidSNRDjpKVe16Vo/2JZYEAHcwGpLXqpWG9HZxVA3RQiQkUrQY4BjKRVAk5XJRJEUQt1sFoU6HAKOYuTBMJNB3Fd4ora2ctQGgufLftyaXr/+7fns68+WacX4eUPUeuJqV43sRT1G8GF1kASyELFpK7voMZafsoE6HQDaQrC8cEkSPhSziT7rRUDY4IoQAACAASURBVFvOJM7aNz/knYQMAAD81j9OI25DUT4BwFVx52r4It/uv/xuCsCqZbMqEcodRWiz0SKmfl46rWYbLKKUSt2+I99qLjJozTKreaXrWtidMIihgrFoWSsWC7XFXBB/wZ4TWHw8HwhPMLYpjQ1erUZ+PVHNZAUvbry/P0iXz0puflx8AO2Xln+HDBEEQQA4ACRFzEpHClun365OcKggSZp5+DG0NyCIjLQrmXtfrWs2ADgOEJU3f6sAAIADjpL6SrlL7gBAFwGM1mbLVFVVdXnCYenWQoFalzrp9VEkCUjZW8l0pW9PD2INw7LhbmsjLnb6k6Rsr8j86fmt5WP3X3eWj+SPBwFXu9ToArgaigLgOL1eD1wuF9XjoosstEprr6v3mmTn733d8umsUD8rABDizcTNn5K5wP5pnL/9pWX/ftgDAOuyrLSJhW/OhxRgp/LmdZW4cbOhxNX0Ph0UKLO8nii746HJ90da3SAY3k0CAGqpOvCBhSGl1vmYLX8Cfis5eRqPC6fDyuuz7PZH7miZ/VNqPMwksPj4VbFNrd7oTHOBI2l/YPFXb02UP74pKglVbUFwcTR/FkLIAoqmZ4/cbKvTRQ5BM+5HDvCGd661LQuI273ibAshyyZpNz3pVrZlOXfXWajjEG56uAeyUGdGloeuty2EkE3So7cYvgJ1upZDUMzkDA2ls4Gm717BUKkecUPbspz/v73zB20cWxv+836F1EhNVMmN1USV3NjwEsH9kHkvNneJYBeHXRw2jCGLIcFhQgKeMSRkiEnAMwabDDEJmA04ZLDZJeIuKNyLzXuJ+AqlsRurUhq5saqTRmp0mvsVdhLbSTyZ/XfvztWvCLF8JB0dSzrPef5ihDCA5yLHIQBgrLjvWNd/7iXfNp16yaOQ0dzxnqA7rCSHpjakAzyDdHPC/5NkeD7wnFMx0TfFKIDTROiGlt8Vk9zTbZG6tXqKEJ7Y7FlqfkvxpJ2jlFv+8kuUOSnGoVnIbmtk4vsfckyrcHhFzx+kQ4R1WN1SLzZPivJQkUTSDEMDIP0wb9OADIyhkd9qASADA08xNNmttnoQ3vnpWKYB+vXlr6rB/X+8EQe788ni9zEPGY1Gh0+9CA/LKyKtceGG5+d5uCj893+/muht/ov/zoPw+m8nn1wHevi0Tf0Rb2+yJ9o4qI+ec1MDAADNBAJ3CjeGJMAFMJWqdsPKKZkbO4BDAwBJDDeRoXgUwLms1q/ZxBuRKVTMRmGrZVvYdipbJjIBImA1Lzo4mMkVUxz068s64jf2F+41HF73MFvu4NkXuQT3RP/IUHrnhbZ6+nY9z5zs+wrczwVf+PhNcY1a/m3nya+FjXCU++317CRF0wAAHsDtvGldNqoNRe/Yty751KyU2sylIhNPtmc1K6WqenXruk8Fw/HUZkbmp83mlrq9XmgzyYODtRAN4DW3v9hGG389ihijxyJYIZbMrC2OndKsLi+pwsGPKVQpVNWOjed2/vf9UJuD9FqpWteMm8GkRMzMiotrG0kxMPJ2bJe/Xm3LZ2cJ1Kgc1rXrQVtiZlZaTGeS0dGmqKvWTutNfdgGgGDDcia3EZ8QBz3rslE9vT8vFZyLp9YyMSv/xbaz8bfju7nlIwe0GivfVK4BAKCX/+LPgxZzO38bXp7X3P5iu5/+4UOKG+nj8y/5JG5WSlW1Y+O7c6c/8kMNofn483x2UOd0qzQZyCJkznKccXtaMG0MYF+p6u2NRQTFeGjirkLdi5o3pUAy7j2i9Oifry+/7bgUi5TtFQ85tl3aLXWQouGZGVfdXm471z2XoDqFr//iuK6L8XUhe8ifrN26nhJCIpMadNOyNAIYnucBgBekIAde+6JpA3iGCXIEoGdawMaCd+cmA3woAA6+qFTqSkweqBCtellrU2IuFKLI1AZr38lKqK00rkB6kRAYNvQpdaA967JaqSra9XDwiBkhlpp4RDxTLY/8zgAUGxYTydub2+mel8rVlnF3D1JBQUqkJx6zj9FrFNRrYm4nHZkQXbCDgaBGN3rtSrnlzu2leMaMyaLpAQTF+SAAACXKXNCslQ0AyrIBOLB7fWBi9z3xzPNs9vSamHtdXHvoInwPGVo72Oktb7e2l2GjmFt4xl3t82+PL3x8/njdVtsmhBd3nnReu7z+qknFEpl3UohjKECmrlSrlfWXzsmHtft5COmFlaxis1JyZ1MSWBojs63Uqvnlrnl0vPm4d6Jj1rMvyyaXOSimRlt4xulqRUVCYvNgR2BpjKy2elorr+r66+P34w572Fa3lrWekMjsiTw3eM941nl25e0VhBOZd/MRjgbH6raU0+r6kp45PkiNvbiwrWSXVZOTU3u526aN0+qrJS1zcJQajkL/fGu1bAtyamczwrMUuLbRrB2ebq8g+DBinnK6hyvrpz06LG+8mw9xNIGRqSu10vJyO0ZjGDFUfPSAXKL4g+Satez2BbtxlhMJAAB6ytr2Uy7ZrK4obRATuQOJZ0in322dVpX8iuWd/Yp+eoxc/If8cLOjvtzOj7kFGEreUIb/U7GDeEgc34NggoIwxVbjup3Wg42BUEya52iGZRmKpmnCUgunDYUKbxwfxJ1KNtuwgZqNpRdFlmEYiqahW8qe1vXU0GzQ19XOrdoGYcDYsSxrcGQbmj1NdVl2BpkWggjTt3ouxXGT0zUd2dhJtFerdTO+xjt6rWYGUycyAwDj4luf0BpXhLSY+qRoIKd7uL5+atJziddrscjYI7Jz/F7mBj1vbq/k22xi4yARCVKEi3qWqauK3sMpAACrvr5a7gvJ3JEssBS4yLYMTVF021v8hJ4ABGPpNOHEYl5bbdKx+P295mEMBHl/2zt6Ia/YMCMyNNCRxdykz5DTzH6BWJZFvX4fgLb7LsHejivSSy+3Gtc4OCeRWuGlBh+BjibCl0rr7bLZOzrb9INf/vD4wsfnA8aO3e+Pxtdjt2fqaq3WcuZeF++1v2QkffBDhuPu5r1AgAtFGPfLbaV2md6PDh5r1CxsKUjYODlYvH35cBwfiYvioUYxj/oHoHbpZbaBhI3j4uLEQub6Qp1NHp3diSwcx0eikri1vF3eqkXGlvtuR0PJg7PNyP28bFazb6/I+YOTN3chDBwfisalwvJ6JVsJ/zD6LrJbCswffJhoKhaW1yvbd00D8s6ZyHD3KoQAx0d4+HbptKZa8WF3PL20fdpjkwfH953hOD4SjzWzy9sa3MU9POuAdICjATgKCJrluZELfpRPu+Srdvj1yb1FnOcj0Qi7vFSpVnX5jfgrvae97nnl4nrcGEII8xnpzV9/cIabjcpyXhden20OpyGCoB+bgempATKYeOz24hfevBl2xGqW88oVDsZ2ijsyR3pO+uBEqOQLSqvRZDY2UyGOBuCLP8n3p0FXLaXDZ9ISA57Za3UgIEQEEjxDKSuaRrlU7F2OLm91ut6C2DMtgp8fu4PR5eFhy8aAGYGza1tbgIzWDTFr1La2CCGZS4CSr9qx/c0HLrLPxNNL26cmmxyR6jmOj0Tj0tbyq8JWTfiQ4gDQpaK5wkYxdytRBgJ8SIzf+gpZmmqAtFfcjA8PEeD4kBj/iOCBzVa9fhvOgg0LAw2MmFoDMGvZQsU16LOcODyg6zhAU7fX2FfzuxdDVxjPqi3favbumc0c7O0QpJHfNWxYQGYPuORtxC3DiyHeFNP7slXYUm6TgGD7uucSM8Hg6CsGo17vJpj54cMH6XBXZRO+5PE54AsfnxGd8tJX5YebCVbKpKLc6Cbm4dxHS7EIoVk9G4ADALDUmubOZnKTUgRw8tqDnQEA+pe769sXjrhzPIxaGIdN5DKTypJAPLfZ0rfrjXYyN6LgpaR0JjKqNbmsKb2Z2Lux4EkAADqykYtdrqqnWroYv99hJrbxsKm4sTl/uX7flAw8NHjxcTF42jAsDzgSAByt3rJZ+WisM7cdX1P18eX+Mw74fD71koOJzUlfPC6RCFfzRrsH4q8UCI1d20aTmaIQBpoJ3EkYiCIAaIabKlxhZLTb08wutvPQ7AIAAF5fV6vV6oWBZ+f3znJxDluXh6Vyw+R3ToonP8bqhXzl1TfKrJRYTCakSGB8SAgmGAwyAA5FAAT5YBAAHAqAT+VkXoiGzRYUtI7H6B2XjY3bijzsomFkMVht7dplhbm5IHiO45EYA8nRTqdcqcnRtZ812KhVb9ls4vsHjwgTzWWk8UfEw5POMPdgAGfK14/iGmrVupvpsQtw633Kp/Yz2lJ5Nx++1QZ6GAMx9Ez29EpJw+FEDCltAJKNvTkSJhO00azAB0gHeLeqm33WRBR/H3HLiLljEQAgUvxwKz95zeyft3Uxd1aMjvx2Vu3bbyo0RQPDrb2fUKP5/FHxhY/PCCHz/Y40+vLC2HH6pn7RqK5+3XoxdMG4w3P6Pcu+XbICNhEG99bLzzHbPZhNS9xzTux5lrq98la7mZk/eFTyAJgJS48tV2hREgita9gQuT8TL4437XUMlwjFxEemI1KIR6iLdseC+J27JBGSHm0ajovUhT7WFJy+ZSN0OwbYsvHw5U4CgNXpYUqQJu3eAADAiJIAVw+3Tz3g8/nES6b4yCNBisEABcYDaeHnQ4trxV/lzc9EEulk8OnvUavXMsbmMa/f1VqKqmpXPTwTlne+T0u02ay8zKodh5PTR/sLIRo8h18s/hTvqrVqtZFfPSVmZsV4Kp2J8yQAGQzOdrvVQhejXu+GYGfVQmEQXRMUQkFRFmkAUuTdw6ZCGzYrSuMDGojn3seH/19u/emVldh5P6qug1gqdriq1vX0m58zRGbbwDPxjz4ijCjPUfnKyrK1mJDCQogfdwflpIRQLReWV4yELIUFfuLrJ5hJHPz93l5ymf3Tq/tbhlvc29CW3hZ21ch7mQHHdfCd5oMU05sbsiiaL5U2AJABnu1k1xVh/yTFQ//85WpLPDiOkABA80LQ1nSNMYhQUpg8//hAGCaGoDDxDnGQCwRDTg3H8vmj4Qsfnw8ExXAjtpQhfCgSleOHy8un+Vr8x+G6DOmHu4XGlQ3UzH0AhYdGMh45jotHFKzTcDrV9fypycyy7nWrVJFPNh9oCgCYBxb0ATTDENBDozMNQVPjq2LH8YB6IhyHpBgaXGcslTXxRFOGpgHfNvXM8/xupXWNx4fABgjeiWOeB8SjFgCAgeV7dI35jAM+n0+8ZOLxMFniV9ZOm/VsoTUuzBDCi+Kn2BoIoCnKULeWVOy6GAiKGu35YBtBEQQ1w43q3UkwlbqOI4mdXJy1lEbh28I1ZufiyWJOjgRI8Pp6rVyodvncSVGWN9/LaUtvKsqFCQw7GAR+8f2HRQCw6stLtcj+2b5Ie+3atkJl9u9cjhgxJhTKFQUHE/sPQn88pz+4TbHrAGDb7veHEadMgCaBjCzG2QtV0Rxx+vT6GJ7jYqDZpx4R+u4RCcjFM6pRaai1wkUFD/xJRTmZTg6i5rjFgxOmVm20anmlAgDEzGxYlBfTCTHwc2+FwEIufbFULhWaYjHuOS4QFH37eHLyIgfWfQIy17JsNPDlwS5C9/FKnCiy1VoVgP9IolKr07ZhJhHmxje7jgPPfBv5/GHwhY//BEg+IfOnZaOLgGcA+udb2VNb2vvhh7HIDn3rf9aN2w80zRBg2ejjGRhxp3E6M7dxXFwMmofLq6dbeeHDw4wiPdMa2nPGcRDCQE26XY6/oGiGBhehR1XxHkIOMMyYtOI43mOaBm8QhEoBAHjtcvatzrw4+tvaaBhAv/7tV5W7TywfgIue2YfIIz6bpmGOXtCzDvh8PvWSfxGO1TYdVgh9dIJyel2jH5iPC8NO2bqimQ8iYqdCxvf/HgcA6Ja+/E7h9/4xlh/jMvunV115dCF+S2Dh+O9D1bxDzAbl8Iu4FGJIAMe6rNdOay2TDCf3TtK3yelpTlzYFG+V+f3zl+unPQwA4CAbQ7+w9OXgfxe6xilJhDfO3kRJYKIxodwxhETyoSKpU1hab91LfMr6VwOf2pn5o0FyNj4msQ1VN7xPFz5ImiLAsdBTj4h7/4iQgWhqP5oC8JBldo3OlapUXy1pG2cnixwA0Hx8rRhfA3D6pml29daFWl7X9J2z9/LPdTzmFnPpThUYAHCRA0TwyXB7D2P8uDsYL4nMaQPNyZNmxHFMRb2GmURsYvQ9x8UwDNnz+WzwhY//DDD2AAA8AACno3WwsJGZiCn1xozFtDDHE5rWNNf4jxmxZ6RbN4/QWjFnLuXz2Rp3NB6OAdi4anvRBxYMpDU7mJUnVzrjBEVh5lRr6Sj+QKZx9JbuUuJYPQ5stDQnHp98VTl6q+1SkUFTU9NtSsqtTQQgumMzaUCMCZVy47Qt5yZ1OX211rwZnSqedcDn84mX/AvwuqXl7xo9IITb+Ws6gVh68zYBvL6r6pM5/Z/C6Xcte+QOs2wPwOm126Oxuz0HA0bmyDaC4UITSjM6tLDGI7PTqjWbqnbVg+CcvHZyMIgq9vrNwnrJFN8cb47YrBgxnQu42NGreYWY39mMMwDg6dVtBRK5tEgSzOBudcyOhQE7NvJgUhQLb579NY0xALRLS29t+aCYZGHMozaULJ6lgjyJrGeOyT2CGKEudFX3Ig+8g5GmGsA+UAYAyXChKBeKyvLsypdvFc1aHPOzoQN8JMBHogsy++03p6qO5E/ON3IHnyoWAQDAtBHQj3oQAwB4to0IZkR/g/uXtXpPyKUi5EDo54LT+oDUQ7UHwReJydcEQggD84RiyOePii98/CfgtBvqNbDJ0GDSIEgCbHui6KalKG08ss4OxNOx6npj91A6HnMV8br1wgWd2rhz7SBC8/duHgF5f99YWq9ky/y9izwAANhKoSwd58YKbljnu4dXIGy8mJ7eioykUkKrXCqoQnFs/YYuC+UWns2komNvK1cr5ZtCMf6g6U3wxbApSRCAJzULjl5v9QDuY0C5xEZSXT3NrkMul4kPkwt4qK0W8hWDGFM9PO+AADRFAkaoDzB1Ifqpl/zzcXtmDwAAmz/DL/YTsE6z3yk3ExtvKqurD1pq5dWRsMvw65FUKgAAnllbXakYLjETDIty7nt5oAEB8Pq6UilVWiiY2EmNe8uQgVAk4Oi7BQOCyXg4LAZIp1sqmYS4k47eNe0387stLAhBUyk35EnxmWQCgUE/LBoAsey9U63nDSrQBD4qqD8FLb2Qg981CgXpZKwMgmed7x52IPw6OXhE+qZJ849luSAGI2DaND9peaUBCOJX8ZdAfdsF9kkBomdamBFZGgAA2Qj3Gq+22blMGIOjV+vXAKCeNlNP5Vm2zrdKV+5MbCf1YBBRDwEEGV/4+LzwhY/fFILihFnnyQynwef4gz0bjMy2ro9rMzxkG+2W2jLcYKKYHjzVtJiIzawrW1vsZkriGdJDZkepHuoOQ4w6MdDiZjHTW6+sfm3EFuVBng9LV0+VK4fPPB29R4sbxQ1zuby1JYyqeoOxJHeZ/daMLSZuD9VqqFqPju3tfbySGre4t2OsbueXvtUSiUHSC7vdqiuta0LaOZh4W81ISdHKL33bmmw69/pgOATAywmhUS5lS0QmEQnQ4PTb2mm1blEsjPo0kKG19wf0br66vaQU2CDLELjf690QQnLnINj4bqSs2TMPCExEmoVKtVBj0mHG7WkWk1p8zK300y75F8BImYxUaCIukfq1QnIfJbTx0//L3Go+7ObWytsO++LoeMxpE7T8F/lu7ODHzTvLBfHAgYfkEztFAXMCf/v0eP12S1EUtWW4QSl9cJx6QrfPSMmk22pmv1IYgSdMA8fe5e4UZP3L3fW8TiaKBxtUdem7ylaZHxeVAQAc1Lf7PcMGsLXqrunYlm3Z9g3EDv7xs/xMR64qlCm+tlbevvq2Nz/+iNj0/N7+ILTWaZZXttvMXFyOz/EswxCAbKNZq3aIuZ0YB/3z/PJbMyjFZWmODzI0YNTTlVrjekZKS0/bLG6U1f9WxrY8YTfyuh0LZqQnvLfA0rUexWc4AIB26/KGmp3f3M/JHIma2UILYnt7RGW7VGhGHoofjlnfelnuuGziIPfQgQiZlg0zQ6nG57PBFz5+U+ho7iT6u53tuvFqvTG+iaBmGI4X0+9SyftE7rSYO3lHFyrV7FIZwzAB6P6R0Fpe1Ud3pkOpozO+UakqtfyFCwBAzAhS8l06PTUpPMkvFneMb7fHEkwSfGJvU1IOq43Cq8rwpKK8s59+Tg5OAAjE9884sVqtq+VXpxhgkGn0dS69MJk+E4CRcjuxSKVaq7w6de+abqYXRmwi3OLBEVEqn+a/awyOxobj6fcbXmkyWJmJpN7/lLB0TTctGwEznwqLUihA9uunANT9gvK5B+SS+zvWVqny6jsAoIJSRl58PKr0ky75F0CHUsUPqWc3N8pf/akyvGqM8Wiqk+mQJEmSJDjWZa1QOO1AeONNOjQhWVAAACRBTzfv01xEcPp299LodHRd1zs9l5gRpMW9XCI+5W6i+aicIAnwkHJl9mcIuNGqpUOcTklEu5IvNAwytnOUE2mAzP6GsVLOrng7xVycIwH6anb1ULdv7mVzom+YEAzwETk+ywVDE9O1B0DAJ+oaSG7h/QfuvFpr1AoX7qOPCB3fOYZaTdHqBWUk6a28t5+JBwBgYf+IrJ0qerWguLeJbgUpfZBJPSrfDqHCyUxsNPaIZO4fFGTqJiIIiiCw3TrVXEJ8InC736zUezPi0Nk8ktw/eCGIARKcdullXiPnD3JxEQjt61f5lyVmJG+OYzarpVKjc0ME598d3GlLPceBQckAz2peGECEBb9y9mfGf/3zn//8V/fB51+G5zguPKsi59OFRz6+azP757HE4fcvlp/HlL60C39ZvYwe3XksPqPbnoMwMJ/qzeZdbn3xqh3//u+5R8IinnNAx3E+YTx/wfD/irQLf1nVIxsZ6V74IRhBHE2n0d79y2or8niZ2/5lKV9WOjaw4eTGTjr60MF14HB69IjD6S3WeXbrtN2zh7NzUIiIkhSTpOnesk67Vqg1253rGyIYluTEYiLOE6itVqunOiKcXg+zc5m9/cV7++Iw3yj74uTDGg9eu5ZXEcsHOTYQ5ILcozWO+ufZ9YYFgB3bvqHmj35682iQ9rNwHAem/96eg1wgqCfaeJ7juk/GS91jHn69pEamDLjTzH65rd2aaGfmXh8XJxLKWLVvv6mHDopUddtMHI37tXrdw+XVUxS+28vpHq6sNnDy5Mc1fmBBW64YGKjZxOZ+Rr43GDmX2S9fafeW4Zn5gx/fTJOgfP54+MKHz2/NA+HjN2RS+PilON2mTkuT5V4ArPrKUtmSj37K/fwJ5o+HY+ptJyhO5u4axVILtfbs4puFx9apTrteNZiY/KDYyy2mWlKs8Iu16NOGOHRZq/conuf5Z6axGOyln6t9JixGQg+r4PUvz01OfkSZ1++2MR95vhtM//KwqiEgaW5WlGTxD1GA9aNSrYesXt/xAIBkuMdqCCK9dqiz6c0443kP89YiXe2yY+UzHct0WH54Czl6rWoFE3J00lHF6apKx3IcAKAZPhx/8pbx+cPiCx8+vzV/YOEDqS+/zl8RQkyel8QQz1IEdm2zrTaqFwYR2/uw/4TznI+Pj4/PNHyfDx+fJ2Hk4hmrnNZUtdw6vTP4EzOClDnafFAC2MfHx8fnefiaD5/fHgehZ9iffxU8B+FnObF88oFRHw3s6Ezg6VK0Pj4+Pj7PwBc+fHx8fHx8fH5X/s+/ugM+Pj4+Pj4+/1n4wsfnhKUWtkrN/s/bGV0ebhVU87GvLLW0+6zj9nVVbfefSqr2K4FMXe8+dhKnXS+U6vpkP021UKg92DqB1ayfj/TcPN8tNK2xFv3L2qHanawZ/hSO1dXvaZu/Xm3Z3wSne156zq3joT6a+vM65nmpUNfvRtJznjliXre+VXisA067fvjwR/Xx8flj4zucfk4g47LVplIwqP3dV3fz6uOlNwg2kXsTH49ndHp6q4nknPywud1WLzSLE4jgXeIkmhMngxA9s7adrVjChhBZ5Lxm9s/b2lOFTajYwT/2hykhPWQa1rQZiuEjo4F4jn64nkeZR4JnrFZNUXkhNZ5+1dLrikIGX6SmpKBEaqlQtmVBvi0h1++0dDoB8fsmnnFRbXi5lDwlFbzT3F1p4ERuZ4G3Gtn1kWzibOL7nx5mBPnFeKZanZCRngMnpeTQmN8KTdp6q9EkROnNwzynHrKMrmFcaZreNmwIbxwfLPKPeNU43Xp+u6JDOC0OQi697uHyqkImdvYyjyT1AADw+l2j52IA8PSWdskIEs0BAADBCsNf3VRrp+aivPjLMoj6+Pj8e+ELH58vrmV0Oo4gTUbI97vatSN+asEz11Cq9p3sQXBJPsKNSC+edZ59WTGY+Xf7w+pkHgCb2CsmuPHjeN3q+lsd7pfPqFlYLRvwJIT07n8zaHvrIpg7WZs2f1ud7g0Rjkvjl9vXtWuYzYhTUrj31d3SFZ04SIegW9vS+M21u4nOPN9V6HQuHoCeYWFWmpqOFTWV1rUl0iwJwKePzxKDMXb00nql2bjMhD6h9PzzwJbeUtuPqSKwe+NigpqhHsmzSfJsQg7RAI7ZbLZvS9+xM9BrHRZ4iwcAINiIHCVaW/la2+zdYABiJsjz4cSGKEnSQ8kDdc8Py5WWxcm5k3SMJTBCfc/DdHxzwy6UXy21E7liLv7wN7BbhdUqCgYZAqMeviEapT5FYNTrwW2qMcswb2ZC0ysP+vj4/OHwhY/PGyKU3CvGx+u9NF/+efvTrQAz8Z0fn8qe0b8sZPPKNR3bOxori0UQDDNZDsqjifH5MJAo/k3yPABXL6y87XCZo70YA4AxDBqSNEPaVevaoiZK4d0dsd/t9FxwtOY1BEOEoesAQDC8wDMkWC3VgJk5MJvNUYsSwQjRgZbDaRfWCx02ebQh0uDYba1DZOBO+EAdTWcS19BgtwAAGEtJREFUEA+grmFTfCQ4efIRLFXp4Jn5hETDICPT7ZUHU7H6+kVVSUV/vZIsA+j4/k/xR7+53PrTKz22//epJUccs9VomLdiKMmypNtpNDoAAITARKOsYRiIzxykpakJvaz68lLZwAAAhpJfUvKjXxIERcwQtrq9ZNkHxdRYjUIHOQ4m+NTB0WIAqy+/qAZ2znIREqkvvzz0HOR4DI2Ndo8IfeK4OWZTqbfayKMDUmIsq76Pj8+/Cb7w8ccH6bXDge4dGS4gvbqLKCAji/PP3N/Sz9t9ALuNAPe0+nmf4UWofrN9Na4cmSw/RYRf/3C8EPDM+vpKuQPCi6PiZEH5XmP1i4liM8N9Rz+QDBMAAKumXLnB5EYyFCBRM7tcIXIn+0NRZmrd9p6SXz/t3fZye33QS2HjryeLAVNVrwHgqrJ9Nb5TeOd/IwEaPL20pTji3skmb3fbBPOUPshpX5kYnFo2qwzn4GBiZ2003zNSS7VrQth4pDwbKabT4dbbaqkuHT+jaP0n41ltfcJwhTs2ALbbzUtvQvVB8/cZSgNy8cdY93A1j16cvBmoZZzLraUKZI734wxAFwBoLiyGpneak5JyRw/G4hxDUTRJExRx+5cEAA/1XQLrhYJu2t5INZd24evVixsAKH/1f2/r36z+37t77NUXvY2/HrC6gSm+Uz28Fx1pNiIvPFE7DgD6za3VvCnkdnJhslN+ub7SOzjb/E/KQ+vj84fAFz7++Hj9dqfTg2FREWx3Oy4JBBmfpwBwu7L8bW28vWvj0SrvjlF/+/Z2ar5RygYEXxylACC8cZYTCQBA6ta6yu28T/O3BcXMWnbbEEIBACBZjhfmE7lcPECCoxfWq15i543MAgDMvji7qyx311t998v11oOLQGqpds3OH6RDJAAwYjJaXc9vnXPHC9xzxmAmtneSuavupRe+eusCgHNZU3vE3OuzN6MGj3795XcNYqhWEVO5d4tiNIDUl6sFnE4/Xg3M0VttPMNxNAngmHrHC0rCWEt0WTq8coPJjUkr04DAQi5zsVSubB0KJ2uhX3sitLXSq8o1EKMqJYwxQOc0b4x2E2MMsxt//TBaRpjkOMpuKPpmNE4DeO2Wjui08Em6AmS0LjWdC6cW49xwU799aTGRCEcCWI2XS1UyfXa0H9RNBHB37kjux78laiurncQPd5qPgx9uNR/M3odNkTIKbZfA5qVqjViSWBCfFD6s+na+RSTPdmSeBAik5dpSo9ZKRWRf++Hj82+FL3z8pniW3no6+oNkIrGp9WGfR2Dh/U8LAIPc4gqdeP/jGg8AYB4CAMOL4oStoKddj2oSaPn9/4t5AL3q8pLCvftpRyRIrL0EgqYJxzJ7CJkmwi5WqiVACCFX2DgQbGdWlge6cFrcfD/Q7Tt6qaCY1Aueg4FPh2ubRnvClxRb6KF6oX8+8LpYEwD1LYQQcgSRVxvlrcPQA/HlUWgmELib1hiSABfAVKraDSun5HGTgUMDAEkMN3HRKIDXLlevqNiBzNSrllreMhwDI6K6tYUNDBIgTdVdVt4o5kLgNbN/Noj0Xup+Me1Z9a1864ZNvEk/KVhwizuZ1lL5NJtlj98/S6ByUB9TgedWLyGkvf8dta8NzC7jld6RuvJF/oFrLx0WeVzrmBCPgKNd6Di8+YhzxpN4Zm2roJPze/txM/uXLLN/kougen693AlmfviQhHq+1gsmjpIc7hQqWV3bO7mzzJE0Q9ME7rfKeYMA28TIruW3FADbxBClGRp0VbuhpHd/24+SAN3Sl9/psePh3f0ozmW1akD49Z0/bJBnCWzoXU+O+roPH59/J3zh4zfFNWr5t50nvxY2wlHuE1700zH19g3ATauup+4KQBJcLL026fNhNrRxnw+SJAEIGgAIkr6vDeW0T6unFsXQGAPBivOLAsOyAYZhaDL6j4XJ01vnW1sXaDZTTA88FmmCcvRSVn+kpxRFjHapX99+e+UCKOtf3Bt2CGqGmSGuG7uN+CcUfB+h1yio18TcTnpS5Y4dDAQ1utFqlFRbyKRFCvVlyfAAqPD8QDkUlgUB1atXGIi+7UCItu0+sOJ97IbXb+bXyx0sZIobU8tucovFormyfvF25aVb3E+FpjqfmrXl5YqBqfDrk2fqfn4G6PKwcNEDcEDgUSObbQAydZdgm4WsBoSQzIUBAOmnu7vU2H4kLSY3B0oO83B5+fQaU8Heafal03d7N/kCJZiNDjUzc11d/1ZF1z1MzGjbX6qOi12Me/ktYUSdxYQXN2AgjWKzRdABnmcBeF6gBA4cTdFdcK2eDcCBY1uIYDkWnsbRFM0FPnavFsEAAC5CLoAvfPj4/DvhCx+fDWZT6wEA2BeFUvzs16g/zcjFnxZgaCnRm416+z7SVlrbHy1c2m9urb+9cgkplRwsOsno/j+izzxPQEwkTIHlgwPRhmFuM5h73dJy3rL6wP2M3gdj6TThxGJeW23Ssfi9+sTDGAjy7lK87uFW9RoTEhsAMrCQC02IVZ6++2VvhmVd27QhTtumDXdToNOtZdcrHZedizHtw2z7Y30iIwkJq1rluyXr3bgtaBzHbBsYANxOQzUXpiz178Ba/ov/KYx8djFAK/s/2pjZxQWYHduNAMBAMwyAZ7WveoQgSRMnw3ZbdwgYi59h6PlhFHJQjEsoxDAsy1A0Q4PRKDROWzPSzsle2Cysb19gmAnLKTnMMgzD0LSj57MNpStvDlREpnZhmN5AM+hgwA6yrKGe0CZIXdExy870DNMDjrRNGzNicMpt7ehaB0MwHLqX57HjfmpYl4+Pz++BL3x8LnTVlk1RhMuIMbpVqMhnORoAsF748svKuObDQRieitpA1qXavrL4se9JMffhrDOa14ukR1agjlnPvix37pNagHm+VbvCU9/6BDWXuqu7zsm5N8Pt/fOVpQqd+6kYpwHI0OaHHwEAHk19Ngo2W/X6bStsWBhoYMTUGoBZyxYqrkGf5W7FMddxgKaGHxy9sH16jQEIAA+p61/kJxVVbOJdbi/O2IfrhuUBZdmYDd9G3NJcWBQELlFM48Ns7XaAMOr1bmAmGGRGZ363d20zye9/Opuv50/x4lThkJZSGclV2qbtoGcm6RISuRfhu/Phzmm+YQrJXHLEN8XVKvmLkV2Y6Np+9PaDefj1VYMdj43qtgDYxMFPmyEYWD1UYf/v+6PxM2QktT8MgXJMtbSrGMRsYq+YiwbAoTdPTiKFrUJLVejg5oYUCpAA/NHfUve6tb6uKlbs9WKEBK9tXpg0G4nwAI5eK19oGuWyiaMMypYNE+KcadoEH54mh5mdLgaCE0Zu3n4PARA0TT29l4+Pz78CX/j4PPDaStMR42JXMYPJDLO9XlGTOQAANiLLAm3rdcUMzKckbtieCY864Dn9rq4pmg3udfnVFTEzl5YBALC2+23VeFKGYBP77xeDZm1luXJNzCYzvFYZOpJ6GDveI54uyLy6dlkhHKTAI544LsYu/vQUqa6hVq37qdcFuPU+5VP7GW2pvJsPfyjGmWHvgKAHjbvVwgWaTcyTSgsAGHHz6GhysidYPhSgQW8S9Y7hQMcE7sXd9EaHUu9PAADgzcldzGu78JdVhUsfHy+MDDI6X/niLSJIoPnFYvFj10NHUsWjYPbPrxA/zc4w0ktGkKKjfg2tfMNiI/HoqM+H24CL0cvzHIQc7/ZLAIyR3e8PPHFJmmEweEB83F7hWJdKtVprXYOQfHe2GQ04plooHKpILJ7tn4Xlan63sv5VTZhfTCZiUmjCzkgyXDBIAEYkoTN8MBgEcC0aCC69E+NDEU7nUU0zPbdtAJ+Z5v7Tt8wbAMI8XV+5C7FyLBuAZVnf5uLj82+GL3x8FqBWtQXSnkR2FQAyks7t9AUOagOfj1Sc9ATrcr3Hx1KDOAfPUivVJjNwLOyWvv6uMYxUJYQXB3upSACrK1WCpoTFzZwDAOCYarXawuJGJjFMNooxpoIsAMmwATYs7xcXoaZXht0JLRbfLz7oJHjN7J+3TWnj/eZ4rjBL3a1owyQejmUBJmpb2dZwvqCkzJtHkq5OMJM4+Pt9FpLL7J9e3Xu1cIt7G9rS28KuGnkvM+C4Dr7TfISSmQ1BiOO80gIggeH57u5yhdz8MSeC09xaqrF7H9ZoAAA+wrs1TfW6IDztVgoAAH2zewNslB+Pr/CwA0Azz16Ce91qVSfmHsvM9RjYVMul+9AWbBkYsKGUSvpoGxtgpAOetvXleEB1r/zNV8Oo1+CLs7OIhwGIxwOAAMDr6y1FVVtaxwZ2Lrn3JhUh2s3CSkM1IJzYPEnHeRo8CK8d/7TYVg8r1cr2RYVgBSn2IrMWDQAAzfKzll4q6K59beOZoFcvDE1HszzLR+MRABDEoK2qCtJdPjUtVRzY130AIvwid5+Kzqy97FwTQZ57xgj6+Pj8nvjCx2eA165WO1T0SCSGmgdGjDNjtgpSkKPUqqKYi2tBq1nYyl9cMxKfjAcCALyUTLJMTAp0sku1YCQSoAH6joMJjg7wPNabiqI02z2XTZ7sLPAkgGddVisVFSWOT0IATHzvLE6SI6dzuqqiPZowvWdhcAzl8FADAJqXU3ehmd6YogQDvvv8ayjMAwu59MVSuVRoisW457hAULeK+EB8MQBIvT81sm00UDZgByFE387NTFjkC9UqcoOp6UmrkK71gJLmJgwEro0BaPpZnjioe35YKF+44l7xOSGiBMOHhZ5rGvd5Yp2+DUBhZBhjrsWMEA7ex8+QYu7k+9tSLbayvX3BZI42wsPUboEgtF0MNPuk8AFuu64YtJTeS4i0Ua/vfp2/xkEpkT7al0MMgGddlgoFxRaLZ2/EhTcnC2vmZVNRWn06MLyqyNrJhzUAr1ta+k4Ti2ebIRJdlgpXwsa90MVJ8WClWrFByEjTZA/PQS4Ay4d4/nbokYluAGYjwq+dWdbHx+eX4gsff3zMakFBwkYyQqKH+TOGkJGEHFSUwlbP0TSbjb0+yy0MHRfIyMJmBACsEWcHu4eIQBDUl0t1Ukokix9eKC9XG1tlLkVpNaUNkVTmOBHlhsee0AM4PU3VrEc6gR0bAFsdzSEAANxIMs6RAMDJb97fKjf69eWvKlSq+D4+OmF81OfjY3CLuXSnCgwAuMgBIkg/obxwXAcT3GMST0CUgmXjejZ+Z7t6lH7zwsCUKE3G2CAHAcE9lu38AZ7VurD5je/XFiYz4z9OQH6z6axkFXbjeBjGatW+/aZCJ4on031V6QAfCpjqYZtJJDiGAIJi+QBWamY4s8iR0EcIE+xkitp7SH7twz/Whpfn8nxCWosOFD7IbNZqtZpmM2L6YH8xMvwtGT66mIve6sTM2nJWQQAAnmPfAOFsf6MBeA66cdWuXiGp2N6HtRAAJ8VnKxV7LilPVQJh18MADHvfXa+rmwBsxM/N7uPz74cvfPzxYXhuVk7KHMC0pOn8YmqukW+1heTBweZU9TWAY/ddYFhBfv+TZOnNRn6lTctpSamUlESCZ7qQSE7JTxKQiz/K4JhqVfHkjYWRMJNm9s/bprz344TZ5eMQDBtk6edM3E/Cp4aeFqaNgKafmlGRhSAQHJnAbL2+q7Obm1GaZhgCbG6qE4ZzWakZmE0kpYnFtoMQBop5SuYZg4xsnjyRyP4peEkOVvP5LMccpEK4WalfE7MZ+RlRMp5eP2yM1G0jCGw1K01G/JDibLMPjPB4RbhJGHFxzel32+eHrVZL79gwK6V2zhJRjgYAzzzfzlZRoniUGrFYsdJGjncBNUuFlpDcS4s0ADhaabsppN8s8kCwHAAAIKNtA2AXIYApKgyCIokx31Kvo7VdCCamlQL08fH5F/F//tUd8PnFMPG9443IRzXLjLyZFgi3b3+0rotntE0cFGi9sPyXL9fr17Pp4+M0ZRg2YCacSsuMXlM/WuKcAMdsvl1Zr5uf7D6KwXH6ZvtSrR8Wtl4Wmgi4xfc/ftj8xAn5cVDfdoENPiF8IKt3Q7EcAwDg2AjfXOTXaz0gMXjtavUKg6tNuXbUzBdaN9Rc+sWDdN4IITy2LP+VCcj7xRecVVldevnyZV5zg4lckvv4bn2l2sJiaiQvKy2urYXtWqWJLMO8IXhhWjmbO5x26es//fmr77arOuaSO2f/+48PxVSUo8GzLg9ffrP8tsvKmcS4rwzNhUSRR5rWA0GKRURRFHlP13tsPJUURVGMcDSAZ51vla5oQWCMamnqXUcGgixg5y7IytEU7YaaSy3+yvV0fHx8fg18zcdvCkFxwqzzZIbT4HPzV34E8qMLas+xTBPknQ19+W1+Nesd7C08qbrwDE2/YePhSITOnWR4Bl1WtpY1IpF5gfId5HByKlIrlVWxOFUNTvKLxQO0slrO5tm7Gi1PnRFZPcsyTcMwzLYF4L796isAAIqd5flnJSy5maw8cxftMnmqbseCGYl7vD/osmUS/DxPAoClaj0iGNvYyS2EaEcv5BVn7vU7Xtmu5M8jDzN/eZaaXy9oNzPS3puHA+NZRg8IMfi80JWfBR1ZTMe1deXqCoAI8kGMHAhMH7v+eb5q8umzOD1aPoeJpeK1QudS7V4TQuJ5VVHoSGq/KBFChLs9o2PpTUVpqFoPZmMb3+cWnsiqFoylEl6zvvpFjRVYbPao5FHm9pyepW6vvzXYF0dHKbfw9Xohexg8XnsqPRsfl4KnatvwZJEEdFmqaDC3k/Pzqvv4/FviCx+/KXQ0dxL9F53bc5AD2FQL2YbRNnsuZpPf/7RZLPZW1htvl5auMpsbCfGhTt1ztEbzJpiQQx7uWq3qbr1NimvFM5m3D1UgCBKY+EZGWSqs7xLFXHxadng6tFbM2XljeuisVfv2m8o1AAzLtosJSRAEnud5fnTudCxdNx0AQHoPgJmIwaDCyUxsdI1OMvduocjUTUQQFEFgu3WquYQoProaRnr1tAPhnYGkxCVyB7IgciR4Zi27pXjS3puFKMUntO/K2V3m4E30VsTwrMtGpVzVbDwj7RzvxZnbkXSAHoiFqKW0MfDh5ySK/1Q8ZHZ0XWuqzaueC5QwnwqDprberrbeUuysIIR4fpZjGZYNMDRF0/cF3wCA4aWM/KAcDRnJ/XjSLS0phPB6utQ4AsOLlNM32+2ucXWl6+2O7RJsOJZ+V5Sj3NMyEBOSZJIgANeUjoVmCIya5RKbTicEt1XZLSk9Nlk8XguRAJvFpLF6ur6O94ubj1d24VM7GSO7u5yNMP22SYo7J7npbiI+Pj7/Mnzh43PFM1T9BgA6OhUWExtpMSJGOACIbJ6c8flsoVXeJdgP+1EGvPbhekl3sH0NjEiZ1ZKG53YWeUffLdSwvHayE3a1hnJY1xSbT0cYAAgsFIt2ttKx8VThAwAC8v6xjJq7K9s9DB4yMfCTpgdOSm8wmOcFPhiYosGhHb2y3bABAAhWSk94rRCctLDwlFmGsJSt7dtYXpiZe52Z9MgAAACM+n0QMpu3a+VARAQAsOrryxWTf3EwkCpCmeKGuVwuV+ORNyIN0D9/ufT2ygUiGHu9M7q+94zK0qpyr1CgpOSn1Ex5FlZ9ZbnccQGAmJkVk68TSVkMkACptc1+W9c0TTfMy0ZLmcypEkye/bjJQyC6+eaxwwJ4htK0Z2K5+HNkD69byxYUo2e7eNCTsBjLvItHRX6qZq9/eVhpaG2j5xKz4XjqICeLHNHXlWq1UVhvoJ4NwdjOyaBCHADQoc3jIl7JNrJbwR+OFx4bSjqUOv57om8hoHeeXRXHx8fnX8F//fOf//xX98Hn16LfLFXN8NraMOThUrUC4hMzADK7TjA0EB2cdq2kWiTNzyUSUQ6blwYVHZvc+81SRXOYsJxaeDrMtH95WL1iF3MLD7UK/WapoiGCoBlBkmXxZ9bS81AfeUDSzKTbpuc4mKCnCC4esnp9xwMAkuH4h7YIr1svXNCLOTnoeeRk8A44XVUnpTh/v5vXN22aH67nve55pUPLidEGgy+sS0UzkAMANMMJUizyPN/NT8HrqlUDIpFwmJ9ycAdZdh8NcFyMCD6xOOlzjPR6rU3La/J9nKoJ/EiyEqTX6yYrp26DnEaxmocq4gSe56dLkOP0L+uaywnhcOhB3z2zqSJBfqiZ86y2SUeeFwXk4+Pz74svfPj4+Pj4+Pj8rvjRLj4+Pj4+Pj6/K77w4ePj4+Pj4/O74gsfPj4+Pj4+Pr8rvvDh4+Pj4+Pj87viCx8+Pj4+Pj4+vyu+8OHj4+Pj4+Pzu+ILHz4+Pj4+Pj6/K77w4ePj4+Pj4/O74gsfPj4+Pj4+Pr8rvvDh4+Pj4+Pj87vy/wGYYlawnNQFngAAAABJRU5ErkJggg==)"
      ],
      "metadata": {
        "id": "lait7YsFeY4K"
      }
    },
    {
      "cell_type": "code",
      "metadata": {
        "id": "-fh3TTppW-57"
      },
      "source": [
        "# Number of epochs to train the model.\n",
        "n_epochs = 30\n",
        "\n",
        "# Turn on training mode.\n",
        "model.train()\n",
        "\n",
        "for epoch in range(n_epochs):\n",
        "    # Monitor training loss.\n",
        "    train_loss = 0.0\n",
        "\n",
        "    # Train the model.\n",
        "    for images, labels in train_loader:\n",
        "        # clear the gradients of all optimized variables\n",
        "        optimizer.zero_grad()\n",
        "        # Move data to target device.\n",
        "        images = images.to(device)\n",
        "        labels = labels.to(device)\n",
        "        # Forward pass:\n",
        "        # Compute predicted outputs by passing inputs to the model.\n",
        "        model_out = model(images)\n",
        "        # Calculate the loss.\n",
        "        loss = criterion(model_out, labels)\n",
        "        # Backward pass:\n",
        "        # Compute gradient of the loss with respect to model parameters.\n",
        "        loss.backward()\n",
        "        # Perform a single optimization step (parameters update).\n",
        "        optimizer.step()\n",
        "        # Update running training loss.\n",
        "        train_loss += loss.item() * images.size(0)\n",
        "\n",
        "    # Calculate average loss over an epoch.\n",
        "    train_loss = train_loss / len(train_loader.dataset)\n",
        "\n",
        "    print('Epoch: {} \\tTraining Loss: {}'.format(epoch + 1, train_loss))"
      ],
      "execution_count": null,
      "outputs": []
    },
    {
      "cell_type": "markdown",
      "metadata": {
        "id": "waa-aK37ghYj"
      },
      "source": [
        "### Evaluation"
      ]
    },
    {
      "cell_type": "markdown",
      "metadata": {
        "id": "r1oPC9H8iRjH"
      },
      "source": [
        "訓練完成後，我們可以用模型來做 inference。這裡示範從 testing data 抓一把資料，餵給模型來做預測。\n",
        "\n",
        "要注意的兩點：\n",
        "1. 要將模型從 training mode 轉成 evaluation mode，因為有些深度學習的模型架構在 training mode 的行為會跟 evaluation mode 會表現不一樣\n",
        "2. 由於我們定義的模型並沒有包含 Softmax，所以在 inference 的時候我們手動加上去，這樣預測的結果就會是每個 label 的機率，我們就可以將機率最大的 label 作為預測的 label。"
      ]
    },
    {
      "cell_type": "code",
      "metadata": {
        "id": "RVQEQV_jXXH6"
      },
      "source": [
        "import torch.nn.functional as F\n",
        "\n",
        "# Turn off training mode (i.e., turn on evaluation mode).\n",
        "model.eval()\n",
        "\n",
        "# Obtain one batch of testing images.\n",
        "images, labels = next(iter(test_loader))\n",
        "\n",
        "# Get sample outputs.\n",
        "input_images = images.to(device)\n",
        "model_out = model(input_images)\n",
        "output = F.softmax(model_out, dim=1)\n",
        "print(\"Output data: {}\".format(output))\n",
        "print(\"Output shape: {}\".format(output.shape))\n",
        "\n",
        "# Convert output probabilities to predicted class.\n",
        "_, preds = torch.max(output, dim=1)\n",
        "print(\"Prediction data: {}\".format(preds))\n",
        "print(\"Prediction shape: {}\".format(preds.shape))"
      ],
      "execution_count": null,
      "outputs": []
    },
    {
      "cell_type": "code",
      "source": [
        "# Plot the images in the batch, along with predicted and true labels.\n",
        "fig = plt.figure(figsize=(25, 4))\n",
        "for idx in np.arange(batch_size):\n",
        "    ax = fig.add_subplot(2, int(batch_size / 2), idx + 1, xticks=[], yticks=[])\n",
        "    ax.imshow(np.squeeze(images[idx].numpy()), cmap=\"gray\")\n",
        "\n",
        "    title = \"{} ({})\".format(preds[idx].item(), labels[idx].item())\n",
        "    color = \"green\" if preds[idx] == labels[idx] else \"red\"\n",
        "    ax.set_title(title, color=color)"
      ],
      "metadata": {
        "id": "-BLoz6W9hcqt"
      },
      "execution_count": null,
      "outputs": []
    },
    {
      "cell_type": "markdown",
      "metadata": {
        "id": "JCOAfGuqmWj0"
      },
      "source": [
        "接下來我們可以用模型預測每筆的 testing data，將預測的 label 與真實的 label 蒐集起來，再用 scikit-learn 的 metrics 來衡量模型"
      ]
    },
    {
      "cell_type": "code",
      "metadata": {
        "id": "KG2a18g6XJLE"
      },
      "source": [
        "from sklearn.metrics import classification_report\n",
        "\n",
        "y_pred = []\n",
        "y_gt = []\n",
        "\n",
        "for images, labels in test_loader:\n",
        "    # Run inference for this batch.\n",
        "    input_images = images.to(device)\n",
        "    model_out = model(input_images)\n",
        "    output = F.softmax(model_out, dim=1)\n",
        "    _, preds = torch.max(output, dim=1)\n",
        "\n",
        "    # Collect the predicted results for this batch.\n",
        "    y_pred = y_pred + preds.tolist()\n",
        "    # Collect the ground truth for this batch.\n",
        "    y_gt = y_gt + labels.tolist()\n",
        "\n",
        "print(classification_report(y_gt, y_pred))"
      ],
      "execution_count": null,
      "outputs": []
    },
    {
      "cell_type": "markdown",
      "source": [
        "### Model Saving & Loading"
      ],
      "metadata": {
        "id": "HSsxgw_xmQu8"
      }
    },
    {
      "cell_type": "markdown",
      "source": [
        "深度學習的模型訓練時間通常都很長。當我們訓練出一個還不錯的模型時，會將模型資訊儲存成檔案，這樣下次就可以直接繼續使用，不用再重新訓練一次。\n",
        "\n",
        "PyTorch 模型相關的檔名通常以 `.pth` 或 `.pt` 結尾"
      ],
      "metadata": {
        "id": "aefCwu8KnBCu"
      }
    },
    {
      "cell_type": "markdown",
      "source": [
        "例如以下程式碼會將模型參數儲存在 colab 的 `my_model.pth` 這個檔案\n",
        "\n",
        "打開界面左邊的`檔案`查看，你可以把這個檔案下載到你的電腦"
      ],
      "metadata": {
        "id": "pVAJk4LumTKF"
      }
    },
    {
      "cell_type": "code",
      "source": [
        "torch.save(model.state_dict(), \"my_model.pth\")"
      ],
      "metadata": {
        "id": "G1Ulp6i5mcgW"
      },
      "execution_count": null,
      "outputs": []
    },
    {
      "cell_type": "markdown",
      "source": [
        "接下來讀取模型參數檔案，並且做 inference\n",
        "\n",
        "（可以試著把 `model.load_state_dict(torch.load(\"my_model.pth\"))` 這行註解掉，會發現預測的結果會變很糟）"
      ],
      "metadata": {
        "id": "JCbohii2oHGY"
      }
    },
    {
      "cell_type": "code",
      "source": [
        "# Model construction and parameters loading.\n",
        "model = MultilayerPerceptron()\n",
        "model.load_state_dict(torch.load(\"my_model.pth\"))\n",
        "model = model.to(device)\n",
        "\n",
        "# Run inference.\n",
        "images, labels = next(iter(test_loader))\n",
        "input_images = images.to(device)\n",
        "model_out = model(input_images)\n",
        "output = F.softmax(model_out, dim=1)\n",
        "_, preds = torch.max(output, dim=1)\n",
        "\n",
        "print(\"Prediction: {}\".format(preds))\n",
        "print(\"Ground Truth: {}\".format(labels))"
      ],
      "metadata": {
        "id": "wP3pxcaznpMT"
      },
      "execution_count": null,
      "outputs": []
    },
    {
      "cell_type": "markdown",
      "source": [
        "你也可以連結你個人的 Google Drive，並將檔案儲存在之下\n",
        "\n",
        "執行以下程式碼後，打開 [Google Drive](https://drive.google.com/drive/u/0/my-drive) 可以看到你的模型參數檔案"
      ],
      "metadata": {
        "id": "cNcFBrf5qFE1"
      }
    },
    {
      "cell_type": "code",
      "source": [
        "from google.colab import drive\n",
        "drive.mount(\"/content/drive\")"
      ],
      "metadata": {
        "id": "kAPmmy18prVZ",
        "colab": {
          "base_uri": "https://localhost:8080/"
        },
        "outputId": "4180a1c4-d91e-460f-be41-f2d6f769db79"
      },
      "execution_count": null,
      "outputs": [
        {
          "output_type": "stream",
          "name": "stdout",
          "text": [
            "Mounted at /content/drive\n"
          ]
        }
      ]
    },
    {
      "cell_type": "code",
      "source": [
        "torch.save(model.state_dict(), \"drive/MyDrive/my_model.pth\")"
      ],
      "metadata": {
        "id": "-U2YfZbMqVXd"
      },
      "execution_count": null,
      "outputs": []
    },
    {
      "cell_type": "markdown",
      "metadata": {
        "id": "Q0U9ayyMm_Xp"
      },
      "source": [
        "## 練習題\n"
      ]
    },
    {
      "cell_type": "markdown",
      "source": [
        "[ReLU](https://pytorch.org/docs/stable/generated/torch.nn.ReLU.html#torch.nn.ReLU) 是另一種在深度學習更常用的 Activation Function。請將原本的模型中的 Sigmoid 改 ReLU，並且看準確率是否有上升。"
      ],
      "metadata": {
        "id": "T6qdMb9el9QS"
      }
    },
    {
      "cell_type": "code",
      "source": [
        "#@title 參考解答\n",
        "# Modify the neural network class defintion as follows.\n",
        "class MultilayerPerceptron(nn.Module):\n",
        "\n",
        "    def __init__(self):\n",
        "        super().__init__()\n",
        "\n",
        "        self.flatten = nn.Flatten()\n",
        "        self.fc_stack = nn.Sequential(\n",
        "            nn.Linear(28 * 28, 512),\n",
        "            nn.ReLU(),\n",
        "            nn.Linear(512, 64),\n",
        "            nn.ReLU(),\n",
        "            nn.Linear(64, 10),\n",
        "        )\n",
        "\n",
        "    def forward(self, x):\n",
        "        x = self.flatten(x)\n",
        "        logits = self.fc_stack(x)\n",
        "\n",
        "        return logits"
      ],
      "metadata": {
        "cellView": "form",
        "id": "3O3PLCxPryxe"
      },
      "execution_count": null,
      "outputs": []
    }
  ]
}